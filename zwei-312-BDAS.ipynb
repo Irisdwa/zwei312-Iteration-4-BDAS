{
 "cells": [
  {
   "cell_type": "code",
   "execution_count": 1,
   "id": "f7c3c2c7",
   "metadata": {},
   "outputs": [
    {
     "name": "stderr",
     "output_type": "stream",
     "text": [
      "WARNING: An illegal reflective access operation has occurred\n",
      "WARNING: Illegal reflective access by org.apache.spark.unsafe.Platform (file:/home/ubuntu/spark-3.2.1-bin-hadoop2.7/jars/spark-unsafe_2.12-3.2.1.jar) to constructor java.nio.DirectByteBuffer(long,int)\n",
      "WARNING: Please consider reporting this to the maintainers of org.apache.spark.unsafe.Platform\n",
      "WARNING: Use --illegal-access=warn to enable warnings of further illegal reflective access operations\n",
      "WARNING: All illegal access operations will be denied in a future release\n",
      "Using Spark's default log4j profile: org/apache/spark/log4j-defaults.properties\n",
      "Setting default log level to \"WARN\".\n",
      "To adjust logging level use sc.setLogLevel(newLevel). For SparkR, use setLogLevel(newLevel).\n",
      "22/10/12 04:19:31 WARN NativeCodeLoader: Unable to load native-hadoop library for your platform... using builtin-java classes where applicable\n"
     ]
    }
   ],
   "source": [
    "import findspark\n",
    "findspark.init('/home/ubuntu/spark-3.2.1-bin-hadoop2.7')\n",
    "import pyspark\n",
    "from pyspark.sql import SparkSession\n",
    "spark = SparkSession.builder.appName('co2').getOrCreate()\n",
    "import numpy as np\n",
    "import pandas as pd"
   ]
  },
  {
   "cell_type": "code",
   "execution_count": 36,
   "id": "f34ed3e5",
   "metadata": {},
   "outputs": [],
   "source": [
    "df = spark.read.csv('CO2data.csv', header=True, inferSchema=True)"
   ]
  },
  {
   "cell_type": "code",
   "execution_count": 3,
   "id": "760d99f9",
   "metadata": {},
   "outputs": [
    {
     "name": "stdout",
     "output_type": "stream",
     "text": [
      "root\n",
      " |-- YEAR: integer (nullable = true)\n",
      " |-- MAKE: string (nullable = true)\n",
      " |-- MODEL: string (nullable = true)\n",
      " |-- VEHICLE CLASS: string (nullable = true)\n",
      " |-- ENGINE SIZE(L): double (nullable = true)\n",
      " |-- CYLINDERS: integer (nullable = true)\n",
      " |-- TRANSMISSION: string (nullable = true)\n",
      " |-- FUEL TYPE: string (nullable = true)\n",
      " |-- FUEL CONSUMPTION CITY (L/100 km): double (nullable = true)\n",
      " |-- FUEL CONSUMPTION HWY (L/100 km): double (nullable = true)\n",
      " |-- FUEL CONSUMPTION COMB (L/100 km): double (nullable = true)\n",
      " |-- FUEL CONSUMPTION COMB (mpg): integer (nullable = true)\n",
      " |-- CO2 EMISSIONS  (g/km): integer (nullable = true)\n",
      " |-- CO2 RATING: integer (nullable = true)\n",
      " |-- SMOG RATING: integer (nullable = true)\n",
      "\n"
     ]
    }
   ],
   "source": [
    "df.printSchema()"
   ]
  },
  {
   "cell_type": "code",
   "execution_count": 4,
   "id": "4fb7c0d1",
   "metadata": {},
   "outputs": [
    {
     "name": "stdout",
     "output_type": "stream",
     "text": [
      "+----+------------+-------------------+-------------+--------------+---------+------------+---------+--------------------------------+-------------------------------+--------------------------------+---------------------------+---------------------+----------+-----------+\n",
      "|YEAR|MAKE        |MODEL              |VEHICLE CLASS|ENGINE SIZE(L)|CYLINDERS|TRANSMISSION|FUEL TYPE|FUEL CONSUMPTION CITY (L/100 km)|FUEL CONSUMPTION HWY (L/100 km)|FUEL CONSUMPTION COMB (L/100 km)|FUEL CONSUMPTION COMB (mpg)|CO2 EMISSIONS  (g/km)|CO2 RATING|SMOG RATING|\n",
      "+----+------------+-------------------+-------------+--------------+---------+------------+---------+--------------------------------+-------------------------------+--------------------------------+---------------------------+---------------------+----------+-----------+\n",
      "|2017|ACURA       |ILX                |COMPACT      |2.4           |4        |AM8         |Z        |9.4                             |6.8                            |8.2                             |34                         |192                  |7         |6          |\n",
      "|2017|ACURA       |MDX SH-AWD         |SUV-SMALL    |3.5           |6        |AS9         |Z        |12.6                            |9.0                            |11.0                            |26                         |259                  |4         |6          |\n",
      "|2017|ACURA       |MDX SH-AWD ELITE   |SUV-SMALL    |3.5           |6        |AS9         |Z        |12.2                            |9.0                            |10.7                            |26                         |251                  |5         |6          |\n",
      "|2017|ACURA       |MDX HYBRID AWD     |SUV-SMALL    |3.0           |6        |AM7         |Z        |9.1                             |9.0                            |9.0                             |31                         |210                  |6         |6          |\n",
      "|2017|ACURA       |NSX                |TWO-SEATER   |3.5           |6        |AM9         |Z        |11.1                            |10.8                           |11.0                            |26                         |261                  |4         |6          |\n",
      "|2017|ACURA       |RDX AWD            |SUV-SMALL    |3.5           |6        |AS6         |Z        |12.4                            |8.7                            |10.7                            |26                         |250                  |5         |6          |\n",
      "|2017|ACURA       |RLX HYBRID         |MID-SIZE     |3.5           |6        |AM7         |Z        |8.2                             |7.8                            |8.1                             |35                         |190                  |7         |8          |\n",
      "|2017|ACURA       |TLX                |COMPACT      |2.4           |4        |AM8         |Z        |9.6                             |6.6                            |8.3                             |34                         |197                  |6         |6          |\n",
      "|2017|ACURA       |TLX SH-AWD         |COMPACT      |3.5           |6        |AS9         |Z        |11.2                            |7.5                            |9.6                             |29                         |226                  |5         |6          |\n",
      "|2017|ALFA ROMEO  |4C                 |TWO-SEATER   |1.8           |4        |AM6         |Z        |9.7                             |6.9                            |8.4                             |34                         |197                  |6         |5          |\n",
      "|2017|ALFA ROMEO  |4C SPIDER          |TWO-SEATER   |1.8           |4        |AM6         |Z        |9.7                             |6.9                            |8.4                             |34                         |197                  |6         |5          |\n",
      "|2017|ALFA ROMEO  |GIULIA             |MID-SIZE     |2.0           |4        |A8          |Z        |10.0                            |7.2                            |8.7                             |32                         |205                  |6         |6          |\n",
      "|2017|ALFA ROMEO  |GIULIA AWD         |MID-SIZE     |2.0           |4        |A8          |Z        |10.5                            |7.7                            |9.2                             |31                         |217                  |6         |6          |\n",
      "|2017|ALFA ROMEO  |GIULIA QUADRIFOGLIO|MID-SIZE     |2.9           |6        |A8          |Z        |13.8                            |9.6                            |11.9                            |24                         |280                  |4         |6          |\n",
      "|2017|ASTON MARTIN|DB11 V12           |MINICOMPACT  |5.2           |12       |A8          |Z        |15.5                            |11.4                           |13.7                            |21                         |322                  |3         |6          |\n",
      "|2017|ASTON MARTIN|RAPIDE S           |SUBCOMPACT   |6.0           |12       |A8          |Z        |16.7                            |10.9                           |14.1                            |20                         |331                  |3         |6          |\n",
      "|2017|ASTON MARTIN|VANQUISH           |MINICOMPACT  |6.0           |12       |A8          |Z        |17.5                            |11.4                           |14.7                            |19                         |345                  |2         |6          |\n",
      "|2017|ASTON MARTIN|V12 VANTAGE S      |TWO-SEATER   |6.0           |12       |AM7         |Z        |19.4                            |12.8                           |16.4                            |17                         |388                  |1         |6          |\n",
      "|2017|ASTON MARTIN|V12 VANTAGE S      |TWO-SEATER   |6.0           |12       |M7          |Z        |23.2                            |14.4                           |19.2                            |15                         |450                  |1         |6          |\n",
      "|2017|AUDI        |A3                 |SUBCOMPACT   |2.0           |4        |AM7         |X        |9.1                             |6.8                            |8.0                             |35                         |188                  |7         |8          |\n",
      "+----+------------+-------------------+-------------+--------------+---------+------------+---------+--------------------------------+-------------------------------+--------------------------------+---------------------------+---------------------+----------+-----------+\n",
      "only showing top 20 rows\n",
      "\n"
     ]
    }
   ],
   "source": [
    "df.show(truncate=False)"
   ]
  },
  {
   "cell_type": "code",
   "execution_count": 5,
   "id": "9c37a826",
   "metadata": {},
   "outputs": [
    {
     "data": {
      "text/html": [
       "<div>\n",
       "<style scoped>\n",
       "    .dataframe tbody tr th:only-of-type {\n",
       "        vertical-align: middle;\n",
       "    }\n",
       "\n",
       "    .dataframe tbody tr th {\n",
       "        vertical-align: top;\n",
       "    }\n",
       "\n",
       "    .dataframe thead th {\n",
       "        text-align: right;\n",
       "    }\n",
       "</style>\n",
       "<table border=\"1\" class=\"dataframe\">\n",
       "  <thead>\n",
       "    <tr style=\"text-align: right;\">\n",
       "      <th></th>\n",
       "      <th>YEAR</th>\n",
       "      <th>MAKE</th>\n",
       "      <th>MODEL</th>\n",
       "      <th>VEHICLE CLASS</th>\n",
       "      <th>ENGINE SIZE(L)</th>\n",
       "      <th>CYLINDERS</th>\n",
       "      <th>TRANSMISSION</th>\n",
       "      <th>FUEL TYPE</th>\n",
       "      <th>FUEL CONSUMPTION CITY (L/100 km)</th>\n",
       "      <th>FUEL CONSUMPTION HWY (L/100 km)</th>\n",
       "      <th>FUEL CONSUMPTION COMB (L/100 km)</th>\n",
       "      <th>FUEL CONSUMPTION COMB (mpg)</th>\n",
       "      <th>CO2 EMISSIONS  (g/km)</th>\n",
       "      <th>CO2 RATING</th>\n",
       "      <th>SMOG RATING</th>\n",
       "    </tr>\n",
       "  </thead>\n",
       "  <tbody>\n",
       "    <tr>\n",
       "      <th>0</th>\n",
       "      <td>2017</td>\n",
       "      <td>ACURA</td>\n",
       "      <td>ILX</td>\n",
       "      <td>COMPACT</td>\n",
       "      <td>2.4</td>\n",
       "      <td>4</td>\n",
       "      <td>AM8</td>\n",
       "      <td>Z</td>\n",
       "      <td>9.4</td>\n",
       "      <td>6.8</td>\n",
       "      <td>8.2</td>\n",
       "      <td>34</td>\n",
       "      <td>192</td>\n",
       "      <td>7</td>\n",
       "      <td>6</td>\n",
       "    </tr>\n",
       "    <tr>\n",
       "      <th>1</th>\n",
       "      <td>2017</td>\n",
       "      <td>ACURA</td>\n",
       "      <td>MDX SH-AWD</td>\n",
       "      <td>SUV-SMALL</td>\n",
       "      <td>3.5</td>\n",
       "      <td>6</td>\n",
       "      <td>AS9</td>\n",
       "      <td>Z</td>\n",
       "      <td>12.6</td>\n",
       "      <td>9.0</td>\n",
       "      <td>11.0</td>\n",
       "      <td>26</td>\n",
       "      <td>259</td>\n",
       "      <td>4</td>\n",
       "      <td>6</td>\n",
       "    </tr>\n",
       "    <tr>\n",
       "      <th>2</th>\n",
       "      <td>2017</td>\n",
       "      <td>ACURA</td>\n",
       "      <td>MDX SH-AWD ELITE</td>\n",
       "      <td>SUV-SMALL</td>\n",
       "      <td>3.5</td>\n",
       "      <td>6</td>\n",
       "      <td>AS9</td>\n",
       "      <td>Z</td>\n",
       "      <td>12.2</td>\n",
       "      <td>9.0</td>\n",
       "      <td>10.7</td>\n",
       "      <td>26</td>\n",
       "      <td>251</td>\n",
       "      <td>5</td>\n",
       "      <td>6</td>\n",
       "    </tr>\n",
       "    <tr>\n",
       "      <th>3</th>\n",
       "      <td>2017</td>\n",
       "      <td>ACURA</td>\n",
       "      <td>MDX HYBRID AWD</td>\n",
       "      <td>SUV-SMALL</td>\n",
       "      <td>3.0</td>\n",
       "      <td>6</td>\n",
       "      <td>AM7</td>\n",
       "      <td>Z</td>\n",
       "      <td>9.1</td>\n",
       "      <td>9.0</td>\n",
       "      <td>9.0</td>\n",
       "      <td>31</td>\n",
       "      <td>210</td>\n",
       "      <td>6</td>\n",
       "      <td>6</td>\n",
       "    </tr>\n",
       "    <tr>\n",
       "      <th>4</th>\n",
       "      <td>2017</td>\n",
       "      <td>ACURA</td>\n",
       "      <td>NSX</td>\n",
       "      <td>TWO-SEATER</td>\n",
       "      <td>3.5</td>\n",
       "      <td>6</td>\n",
       "      <td>AM9</td>\n",
       "      <td>Z</td>\n",
       "      <td>11.1</td>\n",
       "      <td>10.8</td>\n",
       "      <td>11.0</td>\n",
       "      <td>26</td>\n",
       "      <td>261</td>\n",
       "      <td>4</td>\n",
       "      <td>6</td>\n",
       "    </tr>\n",
       "    <tr>\n",
       "      <th>...</th>\n",
       "      <td>...</td>\n",
       "      <td>...</td>\n",
       "      <td>...</td>\n",
       "      <td>...</td>\n",
       "      <td>...</td>\n",
       "      <td>...</td>\n",
       "      <td>...</td>\n",
       "      <td>...</td>\n",
       "      <td>...</td>\n",
       "      <td>...</td>\n",
       "      <td>...</td>\n",
       "      <td>...</td>\n",
       "      <td>...</td>\n",
       "      <td>...</td>\n",
       "      <td>...</td>\n",
       "    </tr>\n",
       "    <tr>\n",
       "      <th>6040</th>\n",
       "      <td>2022</td>\n",
       "      <td>Volvo</td>\n",
       "      <td>XC40 T5 AWD</td>\n",
       "      <td>SUV-Small</td>\n",
       "      <td>2.0</td>\n",
       "      <td>4</td>\n",
       "      <td>AS8</td>\n",
       "      <td>Z</td>\n",
       "      <td>10.7</td>\n",
       "      <td>7.7</td>\n",
       "      <td>9.4</td>\n",
       "      <td>30</td>\n",
       "      <td>219</td>\n",
       "      <td>5</td>\n",
       "      <td>5</td>\n",
       "    </tr>\n",
       "    <tr>\n",
       "      <th>6041</th>\n",
       "      <td>2022</td>\n",
       "      <td>Volvo</td>\n",
       "      <td>XC60 B5 AWD</td>\n",
       "      <td>SUV-Small</td>\n",
       "      <td>2.0</td>\n",
       "      <td>4</td>\n",
       "      <td>AS8</td>\n",
       "      <td>Z</td>\n",
       "      <td>10.5</td>\n",
       "      <td>8.1</td>\n",
       "      <td>9.4</td>\n",
       "      <td>30</td>\n",
       "      <td>219</td>\n",
       "      <td>5</td>\n",
       "      <td>5</td>\n",
       "    </tr>\n",
       "    <tr>\n",
       "      <th>6042</th>\n",
       "      <td>2022</td>\n",
       "      <td>Volvo</td>\n",
       "      <td>XC60 B6 AWD</td>\n",
       "      <td>SUV-Small</td>\n",
       "      <td>2.0</td>\n",
       "      <td>4</td>\n",
       "      <td>AS8</td>\n",
       "      <td>Z</td>\n",
       "      <td>11.0</td>\n",
       "      <td>8.7</td>\n",
       "      <td>9.9</td>\n",
       "      <td>29</td>\n",
       "      <td>232</td>\n",
       "      <td>5</td>\n",
       "      <td>7</td>\n",
       "    </tr>\n",
       "    <tr>\n",
       "      <th>6043</th>\n",
       "      <td>2022</td>\n",
       "      <td>Volvo</td>\n",
       "      <td>XC90 T5 AWD</td>\n",
       "      <td>SUV-Standard</td>\n",
       "      <td>2.0</td>\n",
       "      <td>4</td>\n",
       "      <td>AS8</td>\n",
       "      <td>Z</td>\n",
       "      <td>11.5</td>\n",
       "      <td>8.4</td>\n",
       "      <td>10.1</td>\n",
       "      <td>28</td>\n",
       "      <td>236</td>\n",
       "      <td>5</td>\n",
       "      <td>5</td>\n",
       "    </tr>\n",
       "    <tr>\n",
       "      <th>6044</th>\n",
       "      <td>2022</td>\n",
       "      <td>Volvo</td>\n",
       "      <td>XC90 T6 AWD</td>\n",
       "      <td>SUV-Standard</td>\n",
       "      <td>2.0</td>\n",
       "      <td>4</td>\n",
       "      <td>AS8</td>\n",
       "      <td>Z</td>\n",
       "      <td>12.4</td>\n",
       "      <td>8.9</td>\n",
       "      <td>10.8</td>\n",
       "      <td>26</td>\n",
       "      <td>252</td>\n",
       "      <td>5</td>\n",
       "      <td>7</td>\n",
       "    </tr>\n",
       "  </tbody>\n",
       "</table>\n",
       "<p>6045 rows × 15 columns</p>\n",
       "</div>"
      ],
      "text/plain": [
       "      YEAR   MAKE             MODEL VEHICLE CLASS  ENGINE SIZE(L)  CYLINDERS  \\\n",
       "0     2017  ACURA               ILX       COMPACT             2.4          4   \n",
       "1     2017  ACURA        MDX SH-AWD     SUV-SMALL             3.5          6   \n",
       "2     2017  ACURA  MDX SH-AWD ELITE     SUV-SMALL             3.5          6   \n",
       "3     2017  ACURA    MDX HYBRID AWD     SUV-SMALL             3.0          6   \n",
       "4     2017  ACURA               NSX    TWO-SEATER             3.5          6   \n",
       "...    ...    ...               ...           ...             ...        ...   \n",
       "6040  2022  Volvo       XC40 T5 AWD     SUV-Small             2.0          4   \n",
       "6041  2022  Volvo       XC60 B5 AWD     SUV-Small             2.0          4   \n",
       "6042  2022  Volvo       XC60 B6 AWD     SUV-Small             2.0          4   \n",
       "6043  2022  Volvo       XC90 T5 AWD  SUV-Standard             2.0          4   \n",
       "6044  2022  Volvo       XC90 T6 AWD  SUV-Standard             2.0          4   \n",
       "\n",
       "     TRANSMISSION FUEL TYPE  FUEL CONSUMPTION CITY (L/100 km)  \\\n",
       "0             AM8         Z                               9.4   \n",
       "1             AS9         Z                              12.6   \n",
       "2             AS9         Z                              12.2   \n",
       "3             AM7         Z                               9.1   \n",
       "4             AM9         Z                              11.1   \n",
       "...           ...       ...                               ...   \n",
       "6040          AS8         Z                              10.7   \n",
       "6041          AS8         Z                              10.5   \n",
       "6042          AS8         Z                              11.0   \n",
       "6043          AS8         Z                              11.5   \n",
       "6044          AS8         Z                              12.4   \n",
       "\n",
       "      FUEL CONSUMPTION HWY (L/100 km)  FUEL CONSUMPTION COMB (L/100 km)  \\\n",
       "0                                 6.8                               8.2   \n",
       "1                                 9.0                              11.0   \n",
       "2                                 9.0                              10.7   \n",
       "3                                 9.0                               9.0   \n",
       "4                                10.8                              11.0   \n",
       "...                               ...                               ...   \n",
       "6040                              7.7                               9.4   \n",
       "6041                              8.1                               9.4   \n",
       "6042                              8.7                               9.9   \n",
       "6043                              8.4                              10.1   \n",
       "6044                              8.9                              10.8   \n",
       "\n",
       "      FUEL CONSUMPTION COMB (mpg)  CO2 EMISSIONS  (g/km)  CO2 RATING  \\\n",
       "0                              34                    192           7   \n",
       "1                              26                    259           4   \n",
       "2                              26                    251           5   \n",
       "3                              31                    210           6   \n",
       "4                              26                    261           4   \n",
       "...                           ...                    ...         ...   \n",
       "6040                           30                    219           5   \n",
       "6041                           30                    219           5   \n",
       "6042                           29                    232           5   \n",
       "6043                           28                    236           5   \n",
       "6044                           26                    252           5   \n",
       "\n",
       "      SMOG RATING  \n",
       "0               6  \n",
       "1               6  \n",
       "2               6  \n",
       "3               6  \n",
       "4               6  \n",
       "...           ...  \n",
       "6040            5  \n",
       "6041            5  \n",
       "6042            7  \n",
       "6043            5  \n",
       "6044            7  \n",
       "\n",
       "[6045 rows x 15 columns]"
      ]
     },
     "execution_count": 5,
     "metadata": {},
     "output_type": "execute_result"
    }
   ],
   "source": [
    "df.pan = df.toPandas()\n",
    "df.pan"
   ]
  },
  {
   "cell_type": "code",
   "execution_count": 6,
   "id": "90fbdd4c",
   "metadata": {},
   "outputs": [
    {
     "data": {
      "text/plain": [
       "array([[<AxesSubplot:title={'center':'FUEL CONSUMPTION COMB (mpg)'}>]],\n",
       "      dtype=object)"
      ]
     },
     "execution_count": 6,
     "metadata": {},
     "output_type": "execute_result"
    },
    {
     "data": {
      "image/png": "[encoded data removed]",
      "text/plain": [
       "<Figure size 432x288 with 1 Axes>"
      ]
     },
     "metadata": {
      "needs_background": "light"
     },
     "output_type": "display_data"
    }
   ],
   "source": [
    "df.pan.hist('FUEL CONSUMPTION COMB (mpg)')"
   ]
  },
  {
   "cell_type": "code",
   "execution_count": 7,
   "id": "ad1b52be",
   "metadata": {},
   "outputs": [
    {
     "data": {
      "text/plain": [
       "array([[<AxesSubplot:title={'center':'CO2 EMISSIONS  (g/km)'}>]],\n",
       "      dtype=object)"
      ]
     },
     "execution_count": 7,
     "metadata": {},
     "output_type": "execute_result"
    },
    {
     "data": {
      "image/png": "[encoded data removed]",
      "text/plain": [
       "<Figure size 432x288 with 1 Axes>"
      ]
     },
     "metadata": {
      "needs_background": "light"
     },
     "output_type": "display_data"
    }
   ],
   "source": [
    "df.pan.hist('CO2 EMISSIONS  (g/km)')"
   ]
  },
  {
   "cell_type": "code",
   "execution_count": 8,
   "id": "175f8fdc",
   "metadata": {},
   "outputs": [
    {
     "data": {
      "text/plain": [
       "YEAR                                False\n",
       "MAKE                                False\n",
       "MODEL                               False\n",
       "VEHICLE CLASS                       False\n",
       "ENGINE SIZE(L)                      False\n",
       "CYLINDERS                           False\n",
       "TRANSMISSION                        False\n",
       "FUEL TYPE                           False\n",
       "FUEL CONSUMPTION CITY (L/100 km)    False\n",
       "FUEL CONSUMPTION HWY (L/100 km)     False\n",
       "FUEL CONSUMPTION COMB (L/100 km)    False\n",
       "FUEL CONSUMPTION COMB (mpg)         False\n",
       "CO2 EMISSIONS  (g/km)               False\n",
       "CO2 RATING                          False\n",
       "SMOG RATING                         False\n",
       "dtype: bool"
      ]
     },
     "execution_count": 8,
     "metadata": {},
     "output_type": "execute_result"
    }
   ],
   "source": [
    "df.pan.isnull().any()"
   ]
  },
  {
   "cell_type": "code",
   "execution_count": 9,
   "id": "1bec5a44",
   "metadata": {},
   "outputs": [
    {
     "data": {
      "text/html": [
       "<div>\n",
       "<style scoped>\n",
       "    .dataframe tbody tr th:only-of-type {\n",
       "        vertical-align: middle;\n",
       "    }\n",
       "\n",
       "    .dataframe tbody tr th {\n",
       "        vertical-align: top;\n",
       "    }\n",
       "\n",
       "    .dataframe thead th {\n",
       "        text-align: right;\n",
       "    }\n",
       "</style>\n",
       "<table border=\"1\" class=\"dataframe\">\n",
       "  <thead>\n",
       "    <tr style=\"text-align: right;\">\n",
       "      <th></th>\n",
       "      <th>YEAR</th>\n",
       "      <th>ENGINE SIZE(L)</th>\n",
       "      <th>CYLINDERS</th>\n",
       "      <th>FUEL CONSUMPTION CITY (L/100 km)</th>\n",
       "      <th>FUEL CONSUMPTION HWY (L/100 km)</th>\n",
       "      <th>FUEL CONSUMPTION COMB (L/100 km)</th>\n",
       "      <th>FUEL CONSUMPTION COMB (mpg)</th>\n",
       "      <th>CO2 EMISSIONS  (g/km)</th>\n",
       "      <th>CO2 RATING</th>\n",
       "      <th>SMOG RATING</th>\n",
       "    </tr>\n",
       "  </thead>\n",
       "  <tbody>\n",
       "    <tr>\n",
       "      <th>count</th>\n",
       "      <td>6045.000000</td>\n",
       "      <td>6045.000000</td>\n",
       "      <td>6045.000000</td>\n",
       "      <td>6045.000000</td>\n",
       "      <td>6045.000000</td>\n",
       "      <td>6045.000000</td>\n",
       "      <td>6045.000000</td>\n",
       "      <td>6045.000000</td>\n",
       "      <td>6045.000000</td>\n",
       "      <td>6045.000000</td>\n",
       "    </tr>\n",
       "    <tr>\n",
       "      <th>mean</th>\n",
       "      <td>2019.409264</td>\n",
       "      <td>3.148089</td>\n",
       "      <td>5.631762</td>\n",
       "      <td>12.433912</td>\n",
       "      <td>9.130141</td>\n",
       "      <td>10.946352</td>\n",
       "      <td>27.514309</td>\n",
       "      <td>253.776344</td>\n",
       "      <td>4.562614</td>\n",
       "      <td>4.675434</td>\n",
       "    </tr>\n",
       "    <tr>\n",
       "      <th>std</th>\n",
       "      <td>1.702350</td>\n",
       "      <td>1.356136</td>\n",
       "      <td>1.897624</td>\n",
       "      <td>3.383508</td>\n",
       "      <td>2.138759</td>\n",
       "      <td>2.782230</td>\n",
       "      <td>7.402309</td>\n",
       "      <td>60.261598</td>\n",
       "      <td>1.635434</td>\n",
       "      <td>1.790629</td>\n",
       "    </tr>\n",
       "    <tr>\n",
       "      <th>min</th>\n",
       "      <td>2017.000000</td>\n",
       "      <td>0.900000</td>\n",
       "      <td>3.000000</td>\n",
       "      <td>4.000000</td>\n",
       "      <td>3.900000</td>\n",
       "      <td>4.000000</td>\n",
       "      <td>11.000000</td>\n",
       "      <td>94.000000</td>\n",
       "      <td>1.000000</td>\n",
       "      <td>1.000000</td>\n",
       "    </tr>\n",
       "    <tr>\n",
       "      <th>25%</th>\n",
       "      <td>2018.000000</td>\n",
       "      <td>2.000000</td>\n",
       "      <td>4.000000</td>\n",
       "      <td>10.100000</td>\n",
       "      <td>7.600000</td>\n",
       "      <td>9.000000</td>\n",
       "      <td>22.000000</td>\n",
       "      <td>211.000000</td>\n",
       "      <td>3.000000</td>\n",
       "      <td>3.000000</td>\n",
       "    </tr>\n",
       "    <tr>\n",
       "      <th>50%</th>\n",
       "      <td>2019.000000</td>\n",
       "      <td>3.000000</td>\n",
       "      <td>6.000000</td>\n",
       "      <td>12.100000</td>\n",
       "      <td>8.800000</td>\n",
       "      <td>10.600000</td>\n",
       "      <td>27.000000</td>\n",
       "      <td>249.000000</td>\n",
       "      <td>5.000000</td>\n",
       "      <td>5.000000</td>\n",
       "    </tr>\n",
       "    <tr>\n",
       "      <th>75%</th>\n",
       "      <td>2021.000000</td>\n",
       "      <td>3.700000</td>\n",
       "      <td>6.000000</td>\n",
       "      <td>14.500000</td>\n",
       "      <td>10.400000</td>\n",
       "      <td>12.600000</td>\n",
       "      <td>31.000000</td>\n",
       "      <td>292.000000</td>\n",
       "      <td>5.000000</td>\n",
       "      <td>6.000000</td>\n",
       "    </tr>\n",
       "    <tr>\n",
       "      <th>max</th>\n",
       "      <td>2022.000000</td>\n",
       "      <td>8.400000</td>\n",
       "      <td>16.000000</td>\n",
       "      <td>30.300000</td>\n",
       "      <td>20.900000</td>\n",
       "      <td>26.100000</td>\n",
       "      <td>71.000000</td>\n",
       "      <td>608.000000</td>\n",
       "      <td>10.000000</td>\n",
       "      <td>8.000000</td>\n",
       "    </tr>\n",
       "  </tbody>\n",
       "</table>\n",
       "</div>"
      ],
      "text/plain": [
       "              YEAR  ENGINE SIZE(L)    CYLINDERS  \\\n",
       "count  6045.000000     6045.000000  6045.000000   \n",
       "mean   2019.409264        3.148089     5.631762   \n",
       "std       1.702350        1.356136     1.897624   \n",
       "min    2017.000000        0.900000     3.000000   \n",
       "25%    2018.000000        2.000000     4.000000   \n",
       "50%    2019.000000        3.000000     6.000000   \n",
       "75%    2021.000000        3.700000     6.000000   \n",
       "max    2022.000000        8.400000    16.000000   \n",
       "\n",
       "       FUEL CONSUMPTION CITY (L/100 km)  FUEL CONSUMPTION HWY (L/100 km)  \\\n",
       "count                       6045.000000                      6045.000000   \n",
       "mean                          12.433912                         9.130141   \n",
       "std                            3.383508                         2.138759   \n",
       "min                            4.000000                         3.900000   \n",
       "25%                           10.100000                         7.600000   \n",
       "50%                           12.100000                         8.800000   \n",
       "75%                           14.500000                        10.400000   \n",
       "max                           30.300000                        20.900000   \n",
       "\n",
       "       FUEL CONSUMPTION COMB (L/100 km)  FUEL CONSUMPTION COMB (mpg)  \\\n",
       "count                       6045.000000                  6045.000000   \n",
       "mean                          10.946352                    27.514309   \n",
       "std                            2.782230                     7.402309   \n",
       "min                            4.000000                    11.000000   \n",
       "25%                            9.000000                    22.000000   \n",
       "50%                           10.600000                    27.000000   \n",
       "75%                           12.600000                    31.000000   \n",
       "max                           26.100000                    71.000000   \n",
       "\n",
       "       CO2 EMISSIONS  (g/km)   CO2 RATING  SMOG RATING  \n",
       "count            6045.000000  6045.000000  6045.000000  \n",
       "mean              253.776344     4.562614     4.675434  \n",
       "std                60.261598     1.635434     1.790629  \n",
       "min                94.000000     1.000000     1.000000  \n",
       "25%               211.000000     3.000000     3.000000  \n",
       "50%               249.000000     5.000000     5.000000  \n",
       "75%               292.000000     5.000000     6.000000  \n",
       "max               608.000000    10.000000     8.000000  "
      ]
     },
     "execution_count": 9,
     "metadata": {},
     "output_type": "execute_result"
    }
   ],
   "source": [
    "df.pan.describe()"
   ]
  },
  {
   "cell_type": "code",
   "execution_count": 10,
   "id": "9191dc71",
   "metadata": {},
   "outputs": [],
   "source": [
    "df1 = df.pan.drop(['YEAR','MODEL','MAKE'],axis=1)\n",
    "df1 = df1.drop('FUEL CONSUMPTION CITY (L/100 km)',axis=1)\n",
    "df1 = df1.drop('FUEL CONSUMPTION HWY (L/100 km)',axis=1)\n",
    "df1 = df1.drop('FUEL CONSUMPTION COMB (L/100 km)',axis=1)"
   ]
  },
  {
   "cell_type": "code",
   "execution_count": 11,
   "id": "a0557e7f",
   "metadata": {},
   "outputs": [
    {
     "data": {
      "text/html": [
       "<div>\n",
       "<style scoped>\n",
       "    .dataframe tbody tr th:only-of-type {\n",
       "        vertical-align: middle;\n",
       "    }\n",
       "\n",
       "    .dataframe tbody tr th {\n",
       "        vertical-align: top;\n",
       "    }\n",
       "\n",
       "    .dataframe thead th {\n",
       "        text-align: right;\n",
       "    }\n",
       "</style>\n",
       "<table border=\"1\" class=\"dataframe\">\n",
       "  <thead>\n",
       "    <tr style=\"text-align: right;\">\n",
       "      <th></th>\n",
       "      <th>VEHICLE CLASS</th>\n",
       "      <th>ENGINE SIZE(L)</th>\n",
       "      <th>CYLINDERS</th>\n",
       "      <th>TRANSMISSION</th>\n",
       "      <th>FUEL TYPE</th>\n",
       "      <th>FUEL CONSUMPTION COMB (mpg)</th>\n",
       "      <th>CO2 EMISSIONS  (g/km)</th>\n",
       "      <th>CO2 RATING</th>\n",
       "      <th>SMOG RATING</th>\n",
       "    </tr>\n",
       "  </thead>\n",
       "  <tbody>\n",
       "    <tr>\n",
       "      <th>0</th>\n",
       "      <td>COMPACT</td>\n",
       "      <td>2.4</td>\n",
       "      <td>4</td>\n",
       "      <td>AM8</td>\n",
       "      <td>Z</td>\n",
       "      <td>34</td>\n",
       "      <td>192</td>\n",
       "      <td>7</td>\n",
       "      <td>6</td>\n",
       "    </tr>\n",
       "    <tr>\n",
       "      <th>1</th>\n",
       "      <td>SUV-SMALL</td>\n",
       "      <td>3.5</td>\n",
       "      <td>6</td>\n",
       "      <td>AS9</td>\n",
       "      <td>Z</td>\n",
       "      <td>26</td>\n",
       "      <td>259</td>\n",
       "      <td>4</td>\n",
       "      <td>6</td>\n",
       "    </tr>\n",
       "    <tr>\n",
       "      <th>2</th>\n",
       "      <td>SUV-SMALL</td>\n",
       "      <td>3.5</td>\n",
       "      <td>6</td>\n",
       "      <td>AS9</td>\n",
       "      <td>Z</td>\n",
       "      <td>26</td>\n",
       "      <td>251</td>\n",
       "      <td>5</td>\n",
       "      <td>6</td>\n",
       "    </tr>\n",
       "    <tr>\n",
       "      <th>3</th>\n",
       "      <td>SUV-SMALL</td>\n",
       "      <td>3.0</td>\n",
       "      <td>6</td>\n",
       "      <td>AM7</td>\n",
       "      <td>Z</td>\n",
       "      <td>31</td>\n",
       "      <td>210</td>\n",
       "      <td>6</td>\n",
       "      <td>6</td>\n",
       "    </tr>\n",
       "    <tr>\n",
       "      <th>4</th>\n",
       "      <td>TWO-SEATER</td>\n",
       "      <td>3.5</td>\n",
       "      <td>6</td>\n",
       "      <td>AM9</td>\n",
       "      <td>Z</td>\n",
       "      <td>26</td>\n",
       "      <td>261</td>\n",
       "      <td>4</td>\n",
       "      <td>6</td>\n",
       "    </tr>\n",
       "    <tr>\n",
       "      <th>...</th>\n",
       "      <td>...</td>\n",
       "      <td>...</td>\n",
       "      <td>...</td>\n",
       "      <td>...</td>\n",
       "      <td>...</td>\n",
       "      <td>...</td>\n",
       "      <td>...</td>\n",
       "      <td>...</td>\n",
       "      <td>...</td>\n",
       "    </tr>\n",
       "    <tr>\n",
       "      <th>6040</th>\n",
       "      <td>SUV-Small</td>\n",
       "      <td>2.0</td>\n",
       "      <td>4</td>\n",
       "      <td>AS8</td>\n",
       "      <td>Z</td>\n",
       "      <td>30</td>\n",
       "      <td>219</td>\n",
       "      <td>5</td>\n",
       "      <td>5</td>\n",
       "    </tr>\n",
       "    <tr>\n",
       "      <th>6041</th>\n",
       "      <td>SUV-Small</td>\n",
       "      <td>2.0</td>\n",
       "      <td>4</td>\n",
       "      <td>AS8</td>\n",
       "      <td>Z</td>\n",
       "      <td>30</td>\n",
       "      <td>219</td>\n",
       "      <td>5</td>\n",
       "      <td>5</td>\n",
       "    </tr>\n",
       "    <tr>\n",
       "      <th>6042</th>\n",
       "      <td>SUV-Small</td>\n",
       "      <td>2.0</td>\n",
       "      <td>4</td>\n",
       "      <td>AS8</td>\n",
       "      <td>Z</td>\n",
       "      <td>29</td>\n",
       "      <td>232</td>\n",
       "      <td>5</td>\n",
       "      <td>7</td>\n",
       "    </tr>\n",
       "    <tr>\n",
       "      <th>6043</th>\n",
       "      <td>SUV-Standard</td>\n",
       "      <td>2.0</td>\n",
       "      <td>4</td>\n",
       "      <td>AS8</td>\n",
       "      <td>Z</td>\n",
       "      <td>28</td>\n",
       "      <td>236</td>\n",
       "      <td>5</td>\n",
       "      <td>5</td>\n",
       "    </tr>\n",
       "    <tr>\n",
       "      <th>6044</th>\n",
       "      <td>SUV-Standard</td>\n",
       "      <td>2.0</td>\n",
       "      <td>4</td>\n",
       "      <td>AS8</td>\n",
       "      <td>Z</td>\n",
       "      <td>26</td>\n",
       "      <td>252</td>\n",
       "      <td>5</td>\n",
       "      <td>7</td>\n",
       "    </tr>\n",
       "  </tbody>\n",
       "</table>\n",
       "<p>6045 rows × 9 columns</p>\n",
       "</div>"
      ],
      "text/plain": [
       "     VEHICLE CLASS  ENGINE SIZE(L)  CYLINDERS TRANSMISSION FUEL TYPE  \\\n",
       "0          COMPACT             2.4          4          AM8         Z   \n",
       "1        SUV-SMALL             3.5          6          AS9         Z   \n",
       "2        SUV-SMALL             3.5          6          AS9         Z   \n",
       "3        SUV-SMALL             3.0          6          AM7         Z   \n",
       "4       TWO-SEATER             3.5          6          AM9         Z   \n",
       "...            ...             ...        ...          ...       ...   \n",
       "6040     SUV-Small             2.0          4          AS8         Z   \n",
       "6041     SUV-Small             2.0          4          AS8         Z   \n",
       "6042     SUV-Small             2.0          4          AS8         Z   \n",
       "6043  SUV-Standard             2.0          4          AS8         Z   \n",
       "6044  SUV-Standard             2.0          4          AS8         Z   \n",
       "\n",
       "      FUEL CONSUMPTION COMB (mpg)  CO2 EMISSIONS  (g/km)  CO2 RATING  \\\n",
       "0                              34                    192           7   \n",
       "1                              26                    259           4   \n",
       "2                              26                    251           5   \n",
       "3                              31                    210           6   \n",
       "4                              26                    261           4   \n",
       "...                           ...                    ...         ...   \n",
       "6040                           30                    219           5   \n",
       "6041                           30                    219           5   \n",
       "6042                           29                    232           5   \n",
       "6043                           28                    236           5   \n",
       "6044                           26                    252           5   \n",
       "\n",
       "      SMOG RATING  \n",
       "0               6  \n",
       "1               6  \n",
       "2               6  \n",
       "3               6  \n",
       "4               6  \n",
       "...           ...  \n",
       "6040            5  \n",
       "6041            5  \n",
       "6042            7  \n",
       "6043            5  \n",
       "6044            7  \n",
       "\n",
       "[6045 rows x 9 columns]"
      ]
     },
     "execution_count": 11,
     "metadata": {},
     "output_type": "execute_result"
    }
   ],
   "source": [
    "df1"
   ]
  },
  {
   "cell_type": "code",
   "execution_count": 12,
   "id": "cb08cf06",
   "metadata": {},
   "outputs": [],
   "source": [
    "import numpy as np\n",
    "import pandas as pd\n",
    "def three_sigma(ser):\n",
    "    mean_data=ser.mean()\n",
    "    std_data=ser.std()\n",
    "    rule=(mean_data-3*std_data > ser) | (mean_data+3*std_data < ser)\n",
    "    index=np.arange(ser.shape[0])[rule]\n",
    "    outliers=ser.iloc[index]\n",
    "    return outliers"
   ]
  },
  {
   "cell_type": "code",
   "execution_count": 13,
   "id": "3f95afe7",
   "metadata": {},
   "outputs": [],
   "source": [
    "outlier1 = three_sigma(df1['FUEL CONSUMPTION COMB (mpg)'])\n",
    "clean_data=df1.drop(outlier1.keys())"
   ]
  },
  {
   "cell_type": "code",
   "execution_count": 14,
   "id": "07fe5bab",
   "metadata": {},
   "outputs": [],
   "source": [
    "outlier2 = three_sigma(clean_data['CO2 EMISSIONS  (g/km)'])\n",
    "clean_data=clean_data.drop(outlier2.keys())"
   ]
  },
  {
   "cell_type": "code",
   "execution_count": 15,
   "id": "44084e06",
   "metadata": {},
   "outputs": [
    {
     "data": {
      "text/html": [
       "<div>\n",
       "<style scoped>\n",
       "    .dataframe tbody tr th:only-of-type {\n",
       "        vertical-align: middle;\n",
       "    }\n",
       "\n",
       "    .dataframe tbody tr th {\n",
       "        vertical-align: top;\n",
       "    }\n",
       "\n",
       "    .dataframe thead th {\n",
       "        text-align: right;\n",
       "    }\n",
       "</style>\n",
       "<table border=\"1\" class=\"dataframe\">\n",
       "  <thead>\n",
       "    <tr style=\"text-align: right;\">\n",
       "      <th></th>\n",
       "      <th>VEHICLE CLASS</th>\n",
       "      <th>ENGINE SIZE(L)</th>\n",
       "      <th>CYLINDERS</th>\n",
       "      <th>TRANSMISSION</th>\n",
       "      <th>FUEL TYPE</th>\n",
       "      <th>FUEL CONSUMPTION COMB (mpg)</th>\n",
       "      <th>CO2 EMISSIONS  (g/km)</th>\n",
       "      <th>CO2 RATING</th>\n",
       "      <th>SMOG RATING</th>\n",
       "    </tr>\n",
       "  </thead>\n",
       "  <tbody>\n",
       "    <tr>\n",
       "      <th>0</th>\n",
       "      <td>COMPACT</td>\n",
       "      <td>2.4</td>\n",
       "      <td>4</td>\n",
       "      <td>AM8</td>\n",
       "      <td>Z</td>\n",
       "      <td>34</td>\n",
       "      <td>192</td>\n",
       "      <td>7</td>\n",
       "      <td>6</td>\n",
       "    </tr>\n",
       "    <tr>\n",
       "      <th>1</th>\n",
       "      <td>SUV-SMALL</td>\n",
       "      <td>3.5</td>\n",
       "      <td>6</td>\n",
       "      <td>AS9</td>\n",
       "      <td>Z</td>\n",
       "      <td>26</td>\n",
       "      <td>259</td>\n",
       "      <td>4</td>\n",
       "      <td>6</td>\n",
       "    </tr>\n",
       "    <tr>\n",
       "      <th>2</th>\n",
       "      <td>SUV-SMALL</td>\n",
       "      <td>3.5</td>\n",
       "      <td>6</td>\n",
       "      <td>AS9</td>\n",
       "      <td>Z</td>\n",
       "      <td>26</td>\n",
       "      <td>251</td>\n",
       "      <td>5</td>\n",
       "      <td>6</td>\n",
       "    </tr>\n",
       "    <tr>\n",
       "      <th>3</th>\n",
       "      <td>SUV-SMALL</td>\n",
       "      <td>3.0</td>\n",
       "      <td>6</td>\n",
       "      <td>AM7</td>\n",
       "      <td>Z</td>\n",
       "      <td>31</td>\n",
       "      <td>210</td>\n",
       "      <td>6</td>\n",
       "      <td>6</td>\n",
       "    </tr>\n",
       "    <tr>\n",
       "      <th>4</th>\n",
       "      <td>TWO-SEATER</td>\n",
       "      <td>3.5</td>\n",
       "      <td>6</td>\n",
       "      <td>AM9</td>\n",
       "      <td>Z</td>\n",
       "      <td>26</td>\n",
       "      <td>261</td>\n",
       "      <td>4</td>\n",
       "      <td>6</td>\n",
       "    </tr>\n",
       "    <tr>\n",
       "      <th>...</th>\n",
       "      <td>...</td>\n",
       "      <td>...</td>\n",
       "      <td>...</td>\n",
       "      <td>...</td>\n",
       "      <td>...</td>\n",
       "      <td>...</td>\n",
       "      <td>...</td>\n",
       "      <td>...</td>\n",
       "      <td>...</td>\n",
       "    </tr>\n",
       "    <tr>\n",
       "      <th>6040</th>\n",
       "      <td>SUV-Small</td>\n",
       "      <td>2.0</td>\n",
       "      <td>4</td>\n",
       "      <td>AS8</td>\n",
       "      <td>Z</td>\n",
       "      <td>30</td>\n",
       "      <td>219</td>\n",
       "      <td>5</td>\n",
       "      <td>5</td>\n",
       "    </tr>\n",
       "    <tr>\n",
       "      <th>6041</th>\n",
       "      <td>SUV-Small</td>\n",
       "      <td>2.0</td>\n",
       "      <td>4</td>\n",
       "      <td>AS8</td>\n",
       "      <td>Z</td>\n",
       "      <td>30</td>\n",
       "      <td>219</td>\n",
       "      <td>5</td>\n",
       "      <td>5</td>\n",
       "    </tr>\n",
       "    <tr>\n",
       "      <th>6042</th>\n",
       "      <td>SUV-Small</td>\n",
       "      <td>2.0</td>\n",
       "      <td>4</td>\n",
       "      <td>AS8</td>\n",
       "      <td>Z</td>\n",
       "      <td>29</td>\n",
       "      <td>232</td>\n",
       "      <td>5</td>\n",
       "      <td>7</td>\n",
       "    </tr>\n",
       "    <tr>\n",
       "      <th>6043</th>\n",
       "      <td>SUV-Standard</td>\n",
       "      <td>2.0</td>\n",
       "      <td>4</td>\n",
       "      <td>AS8</td>\n",
       "      <td>Z</td>\n",
       "      <td>28</td>\n",
       "      <td>236</td>\n",
       "      <td>5</td>\n",
       "      <td>5</td>\n",
       "    </tr>\n",
       "    <tr>\n",
       "      <th>6044</th>\n",
       "      <td>SUV-Standard</td>\n",
       "      <td>2.0</td>\n",
       "      <td>4</td>\n",
       "      <td>AS8</td>\n",
       "      <td>Z</td>\n",
       "      <td>26</td>\n",
       "      <td>252</td>\n",
       "      <td>5</td>\n",
       "      <td>7</td>\n",
       "    </tr>\n",
       "  </tbody>\n",
       "</table>\n",
       "<p>5906 rows × 9 columns</p>\n",
       "</div>"
      ],
      "text/plain": [
       "     VEHICLE CLASS  ENGINE SIZE(L)  CYLINDERS TRANSMISSION FUEL TYPE  \\\n",
       "0          COMPACT             2.4          4          AM8         Z   \n",
       "1        SUV-SMALL             3.5          6          AS9         Z   \n",
       "2        SUV-SMALL             3.5          6          AS9         Z   \n",
       "3        SUV-SMALL             3.0          6          AM7         Z   \n",
       "4       TWO-SEATER             3.5          6          AM9         Z   \n",
       "...            ...             ...        ...          ...       ...   \n",
       "6040     SUV-Small             2.0          4          AS8         Z   \n",
       "6041     SUV-Small             2.0          4          AS8         Z   \n",
       "6042     SUV-Small             2.0          4          AS8         Z   \n",
       "6043  SUV-Standard             2.0          4          AS8         Z   \n",
       "6044  SUV-Standard             2.0          4          AS8         Z   \n",
       "\n",
       "      FUEL CONSUMPTION COMB (mpg)  CO2 EMISSIONS  (g/km)  CO2 RATING  \\\n",
       "0                              34                    192           7   \n",
       "1                              26                    259           4   \n",
       "2                              26                    251           5   \n",
       "3                              31                    210           6   \n",
       "4                              26                    261           4   \n",
       "...                           ...                    ...         ...   \n",
       "6040                           30                    219           5   \n",
       "6041                           30                    219           5   \n",
       "6042                           29                    232           5   \n",
       "6043                           28                    236           5   \n",
       "6044                           26                    252           5   \n",
       "\n",
       "      SMOG RATING  \n",
       "0               6  \n",
       "1               6  \n",
       "2               6  \n",
       "3               6  \n",
       "4               6  \n",
       "...           ...  \n",
       "6040            5  \n",
       "6041            5  \n",
       "6042            7  \n",
       "6043            5  \n",
       "6044            7  \n",
       "\n",
       "[5906 rows x 9 columns]"
      ]
     },
     "execution_count": 15,
     "metadata": {},
     "output_type": "execute_result"
    }
   ],
   "source": [
    "clean_data"
   ]
  },
  {
   "cell_type": "code",
   "execution_count": 16,
   "id": "757edc27",
   "metadata": {},
   "outputs": [
    {
     "data": {
      "text/plain": [
       "0            COMPACT\n",
       "1          SUV-SMALL\n",
       "2          SUV-SMALL\n",
       "3          SUV-SMALL\n",
       "4         TWO-SEATER\n",
       "            ...     \n",
       "6040       SUV-Small\n",
       "6041       SUV-Small\n",
       "6042       SUV-Small\n",
       "6043    SUV-Standard\n",
       "6044    SUV-Standard\n",
       "Name: VEHICLE CLASS, Length: 5906, dtype: object"
      ]
     },
     "execution_count": 16,
     "metadata": {},
     "output_type": "execute_result"
    }
   ],
   "source": [
    "clean_data['VEHICLE CLASS']"
   ]
  },
  {
   "cell_type": "code",
   "execution_count": 17,
   "id": "0ff910a5",
   "metadata": {},
   "outputs": [
    {
     "data": {
      "text/plain": [
       "0            COMPACT\n",
       "1          SUV-SMALL\n",
       "2          SUV-SMALL\n",
       "3          SUV-SMALL\n",
       "4         TWO-SEATER\n",
       "            ...     \n",
       "6040       SUV-SMALL\n",
       "6041       SUV-SMALL\n",
       "6042       SUV-SMALL\n",
       "6043    SUV-STANDARD\n",
       "6044    SUV-STANDARD\n",
       "Name: VEHICLE CLASS, Length: 5906, dtype: object"
      ]
     },
     "execution_count": 17,
     "metadata": {},
     "output_type": "execute_result"
    }
   ],
   "source": [
    "clean_data['VEHICLE CLASS'] = clean_data['VEHICLE CLASS'].str.upper()\n",
    "clean_data['VEHICLE CLASS']"
   ]
  },
  {
   "cell_type": "code",
   "execution_count": 18,
   "id": "fa247ca0",
   "metadata": {},
   "outputs": [],
   "source": [
    "clean_data = clean_data.reset_index(drop=True)"
   ]
  },
  {
   "cell_type": "code",
   "execution_count": 19,
   "id": "5320ff00",
   "metadata": {},
   "outputs": [],
   "source": [
    "def Split_num_letters(astr):\n",
    "    nums,letters=\"\",\"\"\n",
    "\n",
    "    for i in astr:\n",
    "        \n",
    "        if i.isdigit():\n",
    "            nums = nums+i\n",
    "        elif i.isspace():\n",
    "            pass\n",
    "        else:\n",
    "            letters = letters+i\n",
    "    return nums,letters"
   ]
  },
  {
   "cell_type": "code",
   "execution_count": 20,
   "id": "518ce662",
   "metadata": {},
   "outputs": [
    {
     "data": {
      "text/html": [
       "<div>\n",
       "<style scoped>\n",
       "    .dataframe tbody tr th:only-of-type {\n",
       "        vertical-align: middle;\n",
       "    }\n",
       "\n",
       "    .dataframe tbody tr th {\n",
       "        vertical-align: top;\n",
       "    }\n",
       "\n",
       "    .dataframe thead th {\n",
       "        text-align: right;\n",
       "    }\n",
       "</style>\n",
       "<table border=\"1\" class=\"dataframe\">\n",
       "  <thead>\n",
       "    <tr style=\"text-align: right;\">\n",
       "      <th></th>\n",
       "      <th>VEHICLE CLASS</th>\n",
       "      <th>ENGINE SIZE(L)</th>\n",
       "      <th>CYLINDERS</th>\n",
       "      <th>FUEL TYPE</th>\n",
       "      <th>FUEL CONSUMPTION COMB (mpg)</th>\n",
       "      <th>CO2 EMISSIONS  (g/km)</th>\n",
       "      <th>CO2 RATING</th>\n",
       "      <th>SMOG RATING</th>\n",
       "      <th>TRANSMISSION TYPE</th>\n",
       "      <th>TRANSMISSION NUM</th>\n",
       "    </tr>\n",
       "  </thead>\n",
       "  <tbody>\n",
       "    <tr>\n",
       "      <th>0</th>\n",
       "      <td>COMPACT</td>\n",
       "      <td>2.4</td>\n",
       "      <td>4</td>\n",
       "      <td>Z</td>\n",
       "      <td>34</td>\n",
       "      <td>192</td>\n",
       "      <td>7</td>\n",
       "      <td>6</td>\n",
       "      <td>AM</td>\n",
       "      <td>8</td>\n",
       "    </tr>\n",
       "    <tr>\n",
       "      <th>1</th>\n",
       "      <td>SUV-SMALL</td>\n",
       "      <td>3.5</td>\n",
       "      <td>6</td>\n",
       "      <td>Z</td>\n",
       "      <td>26</td>\n",
       "      <td>259</td>\n",
       "      <td>4</td>\n",
       "      <td>6</td>\n",
       "      <td>AS</td>\n",
       "      <td>9</td>\n",
       "    </tr>\n",
       "    <tr>\n",
       "      <th>2</th>\n",
       "      <td>SUV-SMALL</td>\n",
       "      <td>3.5</td>\n",
       "      <td>6</td>\n",
       "      <td>Z</td>\n",
       "      <td>26</td>\n",
       "      <td>251</td>\n",
       "      <td>5</td>\n",
       "      <td>6</td>\n",
       "      <td>AS</td>\n",
       "      <td>9</td>\n",
       "    </tr>\n",
       "    <tr>\n",
       "      <th>3</th>\n",
       "      <td>SUV-SMALL</td>\n",
       "      <td>3.0</td>\n",
       "      <td>6</td>\n",
       "      <td>Z</td>\n",
       "      <td>31</td>\n",
       "      <td>210</td>\n",
       "      <td>6</td>\n",
       "      <td>6</td>\n",
       "      <td>AM</td>\n",
       "      <td>7</td>\n",
       "    </tr>\n",
       "    <tr>\n",
       "      <th>4</th>\n",
       "      <td>TWO-SEATER</td>\n",
       "      <td>3.5</td>\n",
       "      <td>6</td>\n",
       "      <td>Z</td>\n",
       "      <td>26</td>\n",
       "      <td>261</td>\n",
       "      <td>4</td>\n",
       "      <td>6</td>\n",
       "      <td>AM</td>\n",
       "      <td>9</td>\n",
       "    </tr>\n",
       "  </tbody>\n",
       "</table>\n",
       "</div>"
      ],
      "text/plain": [
       "  VEHICLE CLASS  ENGINE SIZE(L)  CYLINDERS FUEL TYPE  \\\n",
       "0       COMPACT             2.4          4         Z   \n",
       "1     SUV-SMALL             3.5          6         Z   \n",
       "2     SUV-SMALL             3.5          6         Z   \n",
       "3     SUV-SMALL             3.0          6         Z   \n",
       "4    TWO-SEATER             3.5          6         Z   \n",
       "\n",
       "   FUEL CONSUMPTION COMB (mpg)  CO2 EMISSIONS  (g/km)  CO2 RATING  \\\n",
       "0                           34                    192           7   \n",
       "1                           26                    259           4   \n",
       "2                           26                    251           5   \n",
       "3                           31                    210           6   \n",
       "4                           26                    261           4   \n",
       "\n",
       "   SMOG RATING TRANSMISSION TYPE TRANSMISSION NUM  \n",
       "0            6                AM                8  \n",
       "1            6                AS                9  \n",
       "2            6                AS                9  \n",
       "3            6                AM                7  \n",
       "4            6                AM                9  "
      ]
     },
     "execution_count": 20,
     "metadata": {},
     "output_type": "execute_result"
    }
   ],
   "source": [
    "type = []\n",
    "num = []\n",
    "for i in range(len(clean_data)):\n",
    "    nums,letters = Split_num_letters(clean_data['TRANSMISSION'][i])\n",
    "    num.append(nums)\n",
    "    type.append(letters)\n",
    "clean_data['TRANSMISSION TYPE'] = type\n",
    "clean_data['TRANSMISSION NUM'] = num\n",
    "clean_data = clean_data.drop('TRANSMISSION',axis=1)\n",
    "clean_data.head()"
   ]
  },
  {
   "cell_type": "code",
   "execution_count": 21,
   "id": "cad007fc",
   "metadata": {},
   "outputs": [],
   "source": [
    "Vclass = clean_data['VEHICLE CLASS']\n",
    "Ttype  = clean_data['TRANSMISSION TYPE']\n",
    "Ftype = clean_data['FUEL TYPE']"
   ]
  },
  {
   "cell_type": "code",
   "execution_count": 22,
   "id": "5a2dc648",
   "metadata": {},
   "outputs": [],
   "source": [
    "classnum =  Vclass[Vclass.duplicated()==False]\n",
    "typenum  = Ttype[Ttype.duplicated()==False]\n",
    "ftypenum  = Ftype[Ftype.duplicated()==False]"
   ]
  },
  {
   "cell_type": "code",
   "execution_count": 23,
   "id": "bee16e63",
   "metadata": {},
   "outputs": [],
   "source": [
    "classnum = classnum.reset_index(drop=True)\n",
    "cindex = range(len(classnum))\n",
    "clist = classnum.values\n",
    "typenum = typenum.reset_index(drop=True)\n",
    "tindex = range(len(typenum))\n",
    "tlist = typenum.values\n",
    "ftypenum = ftypenum.reset_index(drop=True)\n",
    "findex = range(len(ftypenum))\n",
    "flist = ftypenum.values"
   ]
  },
  {
   "cell_type": "code",
   "execution_count": 24,
   "id": "d0f254da",
   "metadata": {},
   "outputs": [],
   "source": [
    "z = clean_data['VEHICLE CLASS']\n",
    "x = clean_data['TRANSMISSION TYPE']\n",
    "c =  clean_data['TRANSMISSION NUM']\n",
    "v =  clean_data['FUEL TYPE']"
   ]
  },
  {
   "cell_type": "code",
   "execution_count": 25,
   "id": "5054a4b5",
   "metadata": {},
   "outputs": [],
   "source": [
    "z1 = []\n",
    "z2 = []\n",
    "z3 = []\n",
    "z4 = []"
   ]
  },
  {
   "cell_type": "code",
   "execution_count": 26,
   "id": "8377e5c9",
   "metadata": {},
   "outputs": [],
   "source": [
    "for i in range(len(clean_data)):\n",
    "    z1.append(cindex[np.where(clist==z[i])[0][0]]+1)\n",
    "    z2.append(tindex[np.where(tlist==x[i])[0][0]]+1)\n",
    "    z3.append(int(c[i]))\n",
    "    z4.append(tindex[np.where(flist==v[i])[0][0]]+1)"
   ]
  },
  {
   "cell_type": "code",
   "execution_count": 27,
   "id": "c7b859e3",
   "metadata": {},
   "outputs": [],
   "source": [
    "clean_data['VEHICLE CLASS'] = z1\n",
    "clean_data['TRANSMISSION TYPE'] = z2\n",
    "clean_data['TRANSMISSION NUM'] = z3\n",
    "clean_data['FUEL TYPE'] = z4"
   ]
  },
  {
   "cell_type": "code",
   "execution_count": 28,
   "id": "5c14f064",
   "metadata": {},
   "outputs": [
    {
     "data": {
      "text/html": [
       "<div>\n",
       "<style scoped>\n",
       "    .dataframe tbody tr th:only-of-type {\n",
       "        vertical-align: middle;\n",
       "    }\n",
       "\n",
       "    .dataframe tbody tr th {\n",
       "        vertical-align: top;\n",
       "    }\n",
       "\n",
       "    .dataframe thead th {\n",
       "        text-align: right;\n",
       "    }\n",
       "</style>\n",
       "<table border=\"1\" class=\"dataframe\">\n",
       "  <thead>\n",
       "    <tr style=\"text-align: right;\">\n",
       "      <th></th>\n",
       "      <th>VEHICLE CLASS</th>\n",
       "      <th>ENGINE SIZE(L)</th>\n",
       "      <th>CYLINDERS</th>\n",
       "      <th>FUEL TYPE</th>\n",
       "      <th>FUEL CONSUMPTION COMB (mpg)</th>\n",
       "      <th>CO2 EMISSIONS  (g/km)</th>\n",
       "      <th>CO2 RATING</th>\n",
       "      <th>SMOG RATING</th>\n",
       "      <th>TRANSMISSION TYPE</th>\n",
       "      <th>TRANSMISSION NUM</th>\n",
       "    </tr>\n",
       "  </thead>\n",
       "  <tbody>\n",
       "    <tr>\n",
       "      <th>0</th>\n",
       "      <td>1</td>\n",
       "      <td>2.4</td>\n",
       "      <td>4</td>\n",
       "      <td>1</td>\n",
       "      <td>34</td>\n",
       "      <td>192</td>\n",
       "      <td>7</td>\n",
       "      <td>6</td>\n",
       "      <td>1</td>\n",
       "      <td>8</td>\n",
       "    </tr>\n",
       "    <tr>\n",
       "      <th>1</th>\n",
       "      <td>2</td>\n",
       "      <td>3.5</td>\n",
       "      <td>6</td>\n",
       "      <td>1</td>\n",
       "      <td>26</td>\n",
       "      <td>259</td>\n",
       "      <td>4</td>\n",
       "      <td>6</td>\n",
       "      <td>2</td>\n",
       "      <td>9</td>\n",
       "    </tr>\n",
       "    <tr>\n",
       "      <th>2</th>\n",
       "      <td>2</td>\n",
       "      <td>3.5</td>\n",
       "      <td>6</td>\n",
       "      <td>1</td>\n",
       "      <td>26</td>\n",
       "      <td>251</td>\n",
       "      <td>5</td>\n",
       "      <td>6</td>\n",
       "      <td>2</td>\n",
       "      <td>9</td>\n",
       "    </tr>\n",
       "    <tr>\n",
       "      <th>3</th>\n",
       "      <td>2</td>\n",
       "      <td>3.0</td>\n",
       "      <td>6</td>\n",
       "      <td>1</td>\n",
       "      <td>31</td>\n",
       "      <td>210</td>\n",
       "      <td>6</td>\n",
       "      <td>6</td>\n",
       "      <td>1</td>\n",
       "      <td>7</td>\n",
       "    </tr>\n",
       "    <tr>\n",
       "      <th>4</th>\n",
       "      <td>3</td>\n",
       "      <td>3.5</td>\n",
       "      <td>6</td>\n",
       "      <td>1</td>\n",
       "      <td>26</td>\n",
       "      <td>261</td>\n",
       "      <td>4</td>\n",
       "      <td>6</td>\n",
       "      <td>1</td>\n",
       "      <td>9</td>\n",
       "    </tr>\n",
       "    <tr>\n",
       "      <th>...</th>\n",
       "      <td>...</td>\n",
       "      <td>...</td>\n",
       "      <td>...</td>\n",
       "      <td>...</td>\n",
       "      <td>...</td>\n",
       "      <td>...</td>\n",
       "      <td>...</td>\n",
       "      <td>...</td>\n",
       "      <td>...</td>\n",
       "      <td>...</td>\n",
       "    </tr>\n",
       "    <tr>\n",
       "      <th>5901</th>\n",
       "      <td>2</td>\n",
       "      <td>2.0</td>\n",
       "      <td>4</td>\n",
       "      <td>1</td>\n",
       "      <td>30</td>\n",
       "      <td>219</td>\n",
       "      <td>5</td>\n",
       "      <td>5</td>\n",
       "      <td>2</td>\n",
       "      <td>8</td>\n",
       "    </tr>\n",
       "    <tr>\n",
       "      <th>5902</th>\n",
       "      <td>2</td>\n",
       "      <td>2.0</td>\n",
       "      <td>4</td>\n",
       "      <td>1</td>\n",
       "      <td>30</td>\n",
       "      <td>219</td>\n",
       "      <td>5</td>\n",
       "      <td>5</td>\n",
       "      <td>2</td>\n",
       "      <td>8</td>\n",
       "    </tr>\n",
       "    <tr>\n",
       "      <th>5903</th>\n",
       "      <td>2</td>\n",
       "      <td>2.0</td>\n",
       "      <td>4</td>\n",
       "      <td>1</td>\n",
       "      <td>29</td>\n",
       "      <td>232</td>\n",
       "      <td>5</td>\n",
       "      <td>7</td>\n",
       "      <td>2</td>\n",
       "      <td>8</td>\n",
       "    </tr>\n",
       "    <tr>\n",
       "      <th>5904</th>\n",
       "      <td>9</td>\n",
       "      <td>2.0</td>\n",
       "      <td>4</td>\n",
       "      <td>1</td>\n",
       "      <td>28</td>\n",
       "      <td>236</td>\n",
       "      <td>5</td>\n",
       "      <td>5</td>\n",
       "      <td>2</td>\n",
       "      <td>8</td>\n",
       "    </tr>\n",
       "    <tr>\n",
       "      <th>5905</th>\n",
       "      <td>9</td>\n",
       "      <td>2.0</td>\n",
       "      <td>4</td>\n",
       "      <td>1</td>\n",
       "      <td>26</td>\n",
       "      <td>252</td>\n",
       "      <td>5</td>\n",
       "      <td>7</td>\n",
       "      <td>2</td>\n",
       "      <td>8</td>\n",
       "    </tr>\n",
       "  </tbody>\n",
       "</table>\n",
       "<p>5906 rows × 10 columns</p>\n",
       "</div>"
      ],
      "text/plain": [
       "      VEHICLE CLASS  ENGINE SIZE(L)  CYLINDERS  FUEL TYPE  \\\n",
       "0                 1             2.4          4          1   \n",
       "1                 2             3.5          6          1   \n",
       "2                 2             3.5          6          1   \n",
       "3                 2             3.0          6          1   \n",
       "4                 3             3.5          6          1   \n",
       "...             ...             ...        ...        ...   \n",
       "5901              2             2.0          4          1   \n",
       "5902              2             2.0          4          1   \n",
       "5903              2             2.0          4          1   \n",
       "5904              9             2.0          4          1   \n",
       "5905              9             2.0          4          1   \n",
       "\n",
       "      FUEL CONSUMPTION COMB (mpg)  CO2 EMISSIONS  (g/km)  CO2 RATING  \\\n",
       "0                              34                    192           7   \n",
       "1                              26                    259           4   \n",
       "2                              26                    251           5   \n",
       "3                              31                    210           6   \n",
       "4                              26                    261           4   \n",
       "...                           ...                    ...         ...   \n",
       "5901                           30                    219           5   \n",
       "5902                           30                    219           5   \n",
       "5903                           29                    232           5   \n",
       "5904                           28                    236           5   \n",
       "5905                           26                    252           5   \n",
       "\n",
       "      SMOG RATING  TRANSMISSION TYPE  TRANSMISSION NUM  \n",
       "0               6                  1                 8  \n",
       "1               6                  2                 9  \n",
       "2               6                  2                 9  \n",
       "3               6                  1                 7  \n",
       "4               6                  1                 9  \n",
       "...           ...                ...               ...  \n",
       "5901            5                  2                 8  \n",
       "5902            5                  2                 8  \n",
       "5903            7                  2                 8  \n",
       "5904            5                  2                 8  \n",
       "5905            7                  2                 8  \n",
       "\n",
       "[5906 rows x 10 columns]"
      ]
     },
     "execution_count": 28,
     "metadata": {},
     "output_type": "execute_result"
    }
   ],
   "source": [
    "clean_data"
   ]
  },
  {
   "cell_type": "code",
   "execution_count": 29,
   "id": "77930e6e",
   "metadata": {},
   "outputs": [],
   "source": [
    "values = clean_data.values.tolist()\n",
    "columns = clean_data.columns.tolist()\n",
    "data = spark.createDataFrame(values, columns)"
   ]
  },
  {
   "cell_type": "code",
   "execution_count": 30,
   "id": "9d353719",
   "metadata": {},
   "outputs": [
    {
     "name": "stderr",
     "output_type": "stream",
     "text": [
      "\r",
      "[Stage 4:>                                                          (0 + 1) / 1]\r"
     ]
    },
    {
     "name": "stdout",
     "output_type": "stream",
     "text": [
      "+-------------+--------------+---------+---------+---------------------------+---------------------+----------+-----------+-----------------+----------------+\n",
      "|VEHICLE CLASS|ENGINE SIZE(L)|CYLINDERS|FUEL TYPE|FUEL CONSUMPTION COMB (mpg)|CO2 EMISSIONS  (g/km)|CO2 RATING|SMOG RATING|TRANSMISSION TYPE|TRANSMISSION NUM|\n",
      "+-------------+--------------+---------+---------+---------------------------+---------------------+----------+-----------+-----------------+----------------+\n",
      "|1.0          |2.4           |4.0      |1.0      |34.0                       |192.0                |7.0       |6.0        |1.0              |8.0             |\n",
      "|2.0          |3.5           |6.0      |1.0      |26.0                       |259.0                |4.0       |6.0        |2.0              |9.0             |\n",
      "|2.0          |3.5           |6.0      |1.0      |26.0                       |251.0                |5.0       |6.0        |2.0              |9.0             |\n",
      "|2.0          |3.0           |6.0      |1.0      |31.0                       |210.0                |6.0       |6.0        |1.0              |7.0             |\n",
      "|3.0          |3.5           |6.0      |1.0      |26.0                       |261.0                |4.0       |6.0        |1.0              |9.0             |\n",
      "|2.0          |3.5           |6.0      |1.0      |26.0                       |250.0                |5.0       |6.0        |2.0              |6.0             |\n",
      "|4.0          |3.5           |6.0      |1.0      |35.0                       |190.0                |7.0       |8.0        |1.0              |7.0             |\n",
      "|1.0          |2.4           |4.0      |1.0      |34.0                       |197.0                |6.0       |6.0        |1.0              |8.0             |\n",
      "|1.0          |3.5           |6.0      |1.0      |29.0                       |226.0                |5.0       |6.0        |2.0              |9.0             |\n",
      "|3.0          |1.8           |4.0      |1.0      |34.0                       |197.0                |6.0       |5.0        |1.0              |6.0             |\n",
      "|3.0          |1.8           |4.0      |1.0      |34.0                       |197.0                |6.0       |5.0        |1.0              |6.0             |\n",
      "|4.0          |2.0           |4.0      |1.0      |32.0                       |205.0                |6.0       |6.0        |3.0              |8.0             |\n",
      "|4.0          |2.0           |4.0      |1.0      |31.0                       |217.0                |6.0       |6.0        |3.0              |8.0             |\n",
      "|4.0          |2.9           |6.0      |1.0      |24.0                       |280.0                |4.0       |6.0        |3.0              |8.0             |\n",
      "|5.0          |5.2           |12.0     |1.0      |21.0                       |322.0                |3.0       |6.0        |3.0              |8.0             |\n",
      "|6.0          |6.0           |12.0     |1.0      |20.0                       |331.0                |3.0       |6.0        |3.0              |8.0             |\n",
      "|5.0          |6.0           |12.0     |1.0      |19.0                       |345.0                |2.0       |6.0        |3.0              |8.0             |\n",
      "|3.0          |6.0           |12.0     |1.0      |17.0                       |388.0                |1.0       |6.0        |1.0              |7.0             |\n",
      "|6.0          |2.0           |4.0      |2.0      |35.0                       |188.0                |7.0       |8.0        |1.0              |7.0             |\n",
      "|6.0          |2.0           |4.0      |2.0      |32.0                       |205.0                |6.0       |8.0        |1.0              |6.0             |\n",
      "+-------------+--------------+---------+---------+---------------------------+---------------------+----------+-----------+-----------------+----------------+\n",
      "only showing top 20 rows\n",
      "\n"
     ]
    },
    {
     "name": "stderr",
     "output_type": "stream",
     "text": [
      "\r",
      "                                                                                \r"
     ]
    }
   ],
   "source": [
    "data.show(truncate=False)"
   ]
  },
  {
   "cell_type": "code",
   "execution_count": 31,
   "id": "62293aa1",
   "metadata": {},
   "outputs": [],
   "source": [
    "from pyspark.ml.linalg import Vectors\n",
    "from pyspark.ml.feature import VectorAssembler\n",
    "assembler = VectorAssembler(\n",
    "    inputCols=[\"VEHICLE CLASS\", \"ENGINE SIZE(L)\", \n",
    "               \"CYLINDERS\",'FUEL TYPE',\"FUEL CONSUMPTION COMB (mpg)\",\"CO2 EMISSIONS  (g/km)\",\"SMOG RATING\",\"TRANSMISSION TYPE\",'TRANSMISSION NUM'],\n",
    "    outputCol=\"features\")"
   ]
  },
  {
   "cell_type": "code",
   "execution_count": 32,
   "id": "c2fe4e22",
   "metadata": {},
   "outputs": [],
   "source": [
    "output = assembler.transform(data)"
   ]
  },
  {
   "cell_type": "code",
   "execution_count": 33,
   "id": "6b20d46e",
   "metadata": {},
   "outputs": [
    {
     "name": "stdout",
     "output_type": "stream",
     "text": [
      "+--------------------+----------+\n",
      "|            features|CO2 RATING|\n",
      "+--------------------+----------+\n",
      "|[1.0,2.4,4.0,1.0,...|       7.0|\n",
      "|[2.0,3.5,6.0,1.0,...|       4.0|\n",
      "|[2.0,3.5,6.0,1.0,...|       5.0|\n",
      "|[2.0,3.0,6.0,1.0,...|       6.0|\n",
      "|[3.0,3.5,6.0,1.0,...|       4.0|\n",
      "|[2.0,3.5,6.0,1.0,...|       5.0|\n",
      "|[4.0,3.5,6.0,1.0,...|       7.0|\n",
      "|[1.0,2.4,4.0,1.0,...|       6.0|\n",
      "|[1.0,3.5,6.0,1.0,...|       5.0|\n",
      "|[3.0,1.8,4.0,1.0,...|       6.0|\n",
      "|[3.0,1.8,4.0,1.0,...|       6.0|\n",
      "|[4.0,2.0,4.0,1.0,...|       6.0|\n",
      "|[4.0,2.0,4.0,1.0,...|       6.0|\n",
      "|[4.0,2.9,6.0,1.0,...|       4.0|\n",
      "|[5.0,5.2,12.0,1.0...|       3.0|\n",
      "|[6.0,6.0,12.0,1.0...|       3.0|\n",
      "|[5.0,6.0,12.0,1.0...|       2.0|\n",
      "|[3.0,6.0,12.0,1.0...|       1.0|\n",
      "|[6.0,2.0,4.0,2.0,...|       7.0|\n",
      "|[6.0,2.0,4.0,2.0,...|       6.0|\n",
      "+--------------------+----------+\n",
      "only showing top 20 rows\n",
      "\n"
     ]
    }
   ],
   "source": [
    "data = output.select(\"features\",'CO2 RATING')\n",
    "data.show()"
   ]
  },
  {
   "cell_type": "code",
   "execution_count": 34,
   "id": "4990a611",
   "metadata": {},
   "outputs": [
    {
     "name": "stderr",
     "output_type": "stream",
     "text": [
      "                                                                                \r"
     ]
    },
    {
     "name": "stdout",
     "output_type": "stream",
     "text": [
      "+--------------------+----------+--------------------+\n",
      "|            features|CO2 RATING|    selectedFeatures|\n",
      "+--------------------+----------+--------------------+\n",
      "|[1.0,2.4,4.0,1.0,...|       7.0|[1.0,2.4,4.0,1.0,...|\n",
      "|[2.0,3.5,6.0,1.0,...|       4.0|[2.0,3.5,6.0,1.0,...|\n",
      "|[2.0,3.5,6.0,1.0,...|       5.0|[2.0,3.5,6.0,1.0,...|\n",
      "|[2.0,3.0,6.0,1.0,...|       6.0|[2.0,3.0,6.0,1.0,...|\n",
      "|[3.0,3.5,6.0,1.0,...|       4.0|[3.0,3.5,6.0,1.0,...|\n",
      "|[2.0,3.5,6.0,1.0,...|       5.0|[2.0,3.5,6.0,1.0,...|\n",
      "|[4.0,3.5,6.0,1.0,...|       7.0|[4.0,3.5,6.0,1.0,...|\n",
      "|[1.0,2.4,4.0,1.0,...|       6.0|[1.0,2.4,4.0,1.0,...|\n",
      "|[1.0,3.5,6.0,1.0,...|       5.0|[1.0,3.5,6.0,1.0,...|\n",
      "|[3.0,1.8,4.0,1.0,...|       6.0|[3.0,1.8,4.0,1.0,...|\n",
      "|[3.0,1.8,4.0,1.0,...|       6.0|[3.0,1.8,4.0,1.0,...|\n",
      "|[4.0,2.0,4.0,1.0,...|       6.0|[4.0,2.0,4.0,1.0,...|\n",
      "|[4.0,2.0,4.0,1.0,...|       6.0|[4.0,2.0,4.0,1.0,...|\n",
      "|[4.0,2.9,6.0,1.0,...|       4.0|[4.0,2.9,6.0,1.0,...|\n",
      "|[5.0,5.2,12.0,1.0...|       3.0|[5.0,5.2,12.0,1.0...|\n",
      "|[6.0,6.0,12.0,1.0...|       3.0|[6.0,6.0,12.0,1.0...|\n",
      "|[5.0,6.0,12.0,1.0...|       2.0|[5.0,6.0,12.0,1.0...|\n",
      "|[3.0,6.0,12.0,1.0...|       1.0|[3.0,6.0,12.0,1.0...|\n",
      "|[6.0,2.0,4.0,2.0,...|       7.0|[6.0,2.0,4.0,2.0,...|\n",
      "|[6.0,2.0,4.0,2.0,...|       6.0|[6.0,2.0,4.0,2.0,...|\n",
      "+--------------------+----------+--------------------+\n",
      "only showing top 20 rows\n",
      "\n"
     ]
    }
   ],
   "source": [
    "from pyspark.ml.feature import ChiSqSelector\n",
    "selector = ChiSqSelector(numTopFeatures=6,labelCol='CO2 RATING', outputCol=\"selectedFeatures\")\n",
    "model = selector.fit(data)\n",
    "model.transform(data).show()\n",
    "data = model.transform(data)"
   ]
  },
  {
   "cell_type": "code",
   "execution_count": 131,
   "id": "40508c2b",
   "metadata": {},
   "outputs": [],
   "source": [
    "data = data.select(\"selectedFeatures\",'CO2 RATING')\n",
    "splits = data.randomSplit([0.7, 0.3], 1234)\n",
    "train = splits[0]\n",
    "test = splits[1]\n",
    "layers = [6, 8,8, 10]"
   ]
  },
  {
   "cell_type": "code",
   "execution_count": 132,
   "id": "9edaaac6",
   "metadata": {},
   "outputs": [],
   "source": [
    "from pyspark.ml import Pipeline\n",
    "from pyspark.ml.classification import (RandomForestClassifier, GBTClassifier, DecisionTreeClassifier)\n",
    "from pyspark.ml.evaluation import MulticlassClassificationEvaluator\n",
    "from pyspark.ml.classification import MultilayerPerceptronClassifier\n",
    "from pyspark.ml.evaluation import MulticlassClassificationEvaluator\n",
    "trainer = MultilayerPerceptronClassifier(maxIter=100, layers=layers, blockSize=128, seed=20,labelCol='CO2 RATING',featuresCol='selectedFeatures')"
   ]
  },
  {
   "cell_type": "code",
   "execution_count": 133,
   "id": "10acdeb8",
   "metadata": {},
   "outputs": [
    {
     "name": "stderr",
     "output_type": "stream",
     "text": [
      "22/10/12 04:48:36 WARN BLAS: Failed to load implementation from: com.github.fommil.netlib.NativeSystemBLAS\n",
      "22/10/12 04:48:36 WARN BLAS: Failed to load implementation from: com.github.fommil.netlib.NativeRefBLAS\n"
     ]
    }
   ],
   "source": [
    "model = trainer.fit(train)"
   ]
  },
  {
   "cell_type": "code",
   "execution_count": 134,
   "id": "f598dc95",
   "metadata": {},
   "outputs": [
    {
     "name": "stdout",
     "output_type": "stream",
     "text": [
      "Test Error = 0.757647\n"
     ]
    }
   ],
   "source": [
    "result = model.transform(test)\n",
    "evaluator1 = MulticlassClassificationEvaluator(labelCol='CO2 RATING', predictionCol=\"prediction\", metricName=\"accuracy\")\n",
    "accuracy1 = evaluator1.evaluate(result)\n",
    "print(\"Test Error = %g\" % (1.0 - accuracy1))"
   ]
  },
  {
   "cell_type": "code",
   "execution_count": 124,
   "id": "66b6e51a",
   "metadata": {},
   "outputs": [],
   "source": [
    "rf = RandomForestClassifier(labelCol='CO2 RATING',featuresCol='selectedFeatures',numTrees=20)"
   ]
  },
  {
   "cell_type": "code",
   "execution_count": 125,
   "id": "e6cd5bc0",
   "metadata": {},
   "outputs": [],
   "source": [
    "model_rf = rf.fit(train)"
   ]
  },
  {
   "cell_type": "code",
   "execution_count": 126,
   "id": "6af53d37",
   "metadata": {},
   "outputs": [],
   "source": [
    "prediction_rf = model_rf.transform(test)"
   ]
  },
  {
   "cell_type": "code",
   "execution_count": 127,
   "id": "94d921d7",
   "metadata": {},
   "outputs": [
    {
     "name": "stdout",
     "output_type": "stream",
     "text": [
      "Test Error = 0.115294\n"
     ]
    }
   ],
   "source": [
    "evaluator2 = MulticlassClassificationEvaluator(labelCol='CO2 RATING', predictionCol=\"prediction\", metricName=\"accuracy\")\n",
    "accuracy2 = evaluator2.evaluate(prediction_rf)\n",
    "print(\"Test Error = %g\" % (1.0 - accuracy2))"
   ]
  },
  {
   "cell_type": "code",
   "execution_count": 129,
   "id": "205b74a1",
   "metadata": {},
   "outputs": [
    {
     "name": "stdout",
     "output_type": "stream",
     "text": [
      "+--------------------+----------+--------------------+--------------------+----------+\n",
      "|    selectedFeatures|CO2 RATING|       rawPrediction|         probability|prediction|\n",
      "+--------------------+----------+--------------------+--------------------+----------+\n",
      "|[1.0,1.0,3.0,2.0,...|       7.0|[0.0,0.0,0.0,0.0,...|[0.0,0.0,0.0,0.0,...|       7.0|\n",
      "|[1.0,1.0,3.0,2.0,...|       7.0|[0.0,0.0,0.0,0.0,...|[0.0,0.0,0.0,0.0,...|       7.0|\n",
      "|[1.0,1.2,3.0,2.0,...|       8.0|[0.0,0.0,0.0,0.0,...|[0.0,0.0,0.0,0.0,...|       8.0|\n",
      "|[1.0,1.4,4.0,2.0,...|       7.0|[0.0,0.0,0.0,0.0,...|[0.0,0.0,0.0,0.0,...|       7.0|\n",
      "|[1.0,1.4,4.0,2.0,...|       8.0|[0.0,0.0,0.0,0.0,...|[0.0,0.0,0.0,0.0,...|       7.0|\n",
      "|[1.0,1.4,4.0,2.0,...|       8.0|[0.0,0.0,0.0,0.0,...|[0.0,0.0,0.0,0.0,...|       7.0|\n",
      "|[1.0,1.4,4.0,2.0,...|       8.0|[0.0,0.0,0.0,0.0,...|[0.0,0.0,0.0,0.0,...|       7.0|\n",
      "|[1.0,1.4,4.0,2.0,...|       7.0|[0.0,0.0,0.0,0.0,...|[0.0,0.0,0.0,0.0,...|       7.0|\n",
      "|[1.0,1.4,4.0,2.0,...|       7.0|[0.0,0.0,0.0,0.0,...|[0.0,0.0,0.0,0.0,...|       7.0|\n",
      "|[1.0,1.4,4.0,2.0,...|       8.0|[0.0,0.0,0.0,0.0,...|[0.0,0.0,0.0,0.0,...|       7.0|\n",
      "|[1.0,1.4,4.0,2.0,...|       8.0|[0.0,0.0,0.0,0.0,...|[0.0,0.0,0.0,0.0,...|       7.0|\n",
      "|[1.0,1.5,4.0,2.0,...|       7.0|[0.0,0.0,0.0,0.0,...|[0.0,0.0,0.0,0.0,...|       7.0|\n",
      "|[1.0,1.5,4.0,2.0,...|       8.0|[0.0,0.0,0.0,0.0,...|[0.0,0.0,0.0,0.0,...|       8.0|\n",
      "|[1.0,1.5,4.0,2.0,...|       8.0|[0.0,0.0,0.0,0.0,...|[0.0,0.0,0.0,0.0,...|       8.0|\n",
      "|[1.0,1.6,4.0,2.0,...|       6.0|[0.0,0.0,0.0,0.0,...|[0.0,0.0,0.0,0.0,...|       6.0|\n",
      "|[1.0,1.6,4.0,2.0,...|       7.0|[0.0,0.0,0.0,0.0,...|[0.0,0.0,0.0,0.0,...|       6.0|\n",
      "|[1.0,1.6,4.0,2.0,...|       7.0|[0.0,0.0,0.0,0.0,...|[0.0,0.0,0.0,0.0,...|       7.0|\n",
      "|[1.0,1.6,4.0,2.0,...|       7.0|[0.0,0.0,0.0,0.0,...|[0.0,0.0,0.0,0.0,...|       7.0|\n",
      "|[1.0,1.6,4.0,2.0,...|       7.0|[0.0,0.0,0.0,0.0,...|[0.0,0.0,0.0,0.0,...|       7.0|\n",
      "|[1.0,1.6,4.0,2.0,...|       7.0|[0.0,0.0,0.0,0.0,...|[0.0,0.0,0.0,0.0,...|       7.0|\n",
      "+--------------------+----------+--------------------+--------------------+----------+\n",
      "only showing top 20 rows\n",
      "\n"
     ]
    }
   ],
   "source": [
    "prediction_rf.show()"
   ]
  },
  {
   "cell_type": "code",
   "execution_count": 141,
   "id": "3a2c9a83",
   "metadata": {},
   "outputs": [],
   "source": [
    "rf1 = RandomForestClassifier(labelCol='CO2 RATING',featuresCol='selectedFeatures',numTrees=20,maxDepth=10,featureSubsetStrategy=\"auto\")"
   ]
  },
  {
   "cell_type": "code",
   "execution_count": 142,
   "id": "aeb813da",
   "metadata": {},
   "outputs": [
    {
     "name": "stderr",
     "output_type": "stream",
     "text": [
      "22/10/12 05:00:18 WARN DAGScheduler: Broadcasting large task binary with size 1257.9 KiB\n",
      "22/10/12 05:00:19 WARN DAGScheduler: Broadcasting large task binary with size 1677.3 KiB\n"
     ]
    }
   ],
   "source": [
    "model_rf = rf1.fit(train)"
   ]
  },
  {
   "cell_type": "code",
   "execution_count": 143,
   "id": "169db66a",
   "metadata": {},
   "outputs": [],
   "source": [
    "prediction_rf = model_rf.transform(test)"
   ]
  },
  {
   "cell_type": "code",
   "execution_count": 144,
   "id": "34152e95",
   "metadata": {},
   "outputs": [
    {
     "name": "stdout",
     "output_type": "stream",
     "text": [
      "Test Error = 0.109412\n"
     ]
    }
   ],
   "source": [
    "evaluator2 = MulticlassClassificationEvaluator(labelCol='CO2 RATING', predictionCol=\"prediction\", metricName=\"accuracy\")\n",
    "accuracy2 = evaluator2.evaluate(prediction_rf)\n",
    "print(\"Test Error = %g\" % (1.0 - accuracy2))"
   ]
  },
  {
   "cell_type": "code",
   "execution_count": 145,
   "id": "6457841b",
   "metadata": {},
   "outputs": [
    {
     "name": "stdout",
     "output_type": "stream",
     "text": [
      "+--------------------+----------+--------------------+--------------------+----------+\n",
      "|    selectedFeatures|CO2 RATING|       rawPrediction|         probability|prediction|\n",
      "+--------------------+----------+--------------------+--------------------+----------+\n",
      "|[1.0,1.0,3.0,2.0,...|       7.0|[0.0,0.0,0.0,0.0,...|[0.0,0.0,0.0,0.0,...|       7.0|\n",
      "|[1.0,1.0,3.0,2.0,...|       7.0|[0.0,0.0,0.0,0.0,...|[0.0,0.0,0.0,0.0,...|       7.0|\n",
      "|[1.0,1.2,3.0,2.0,...|       8.0|[0.0,0.0,0.0,0.0,...|[0.0,0.0,0.0,0.0,...|       8.0|\n",
      "|[1.0,1.4,4.0,2.0,...|       7.0|[0.0,0.0,0.0,0.0,...|[0.0,0.0,0.0,0.0,...|       7.0|\n",
      "|[1.0,1.4,4.0,2.0,...|       8.0|[0.0,0.0,0.0,0.0,...|[0.0,0.0,0.0,0.0,...|       7.0|\n",
      "|[1.0,1.4,4.0,2.0,...|       8.0|[0.0,0.0,0.0,0.0,...|[0.0,0.0,0.0,0.0,...|       7.0|\n",
      "|[1.0,1.4,4.0,2.0,...|       8.0|[0.0,0.0,0.0,0.0,...|[0.0,0.0,0.0,0.0,...|       7.0|\n",
      "|[1.0,1.4,4.0,2.0,...|       7.0|[0.0,0.0,0.0,0.0,...|[0.0,0.0,0.0,0.0,...|       7.0|\n",
      "|[1.0,1.4,4.0,2.0,...|       7.0|[0.0,0.0,0.0,0.0,...|[0.0,0.0,0.0,0.0,...|       7.0|\n",
      "|[1.0,1.4,4.0,2.0,...|       8.0|[0.0,0.0,0.0,0.0,...|[0.0,0.0,0.0,0.0,...|       8.0|\n",
      "|[1.0,1.4,4.0,2.0,...|       8.0|[0.0,0.0,0.0,0.0,...|[0.0,0.0,0.0,0.0,...|       8.0|\n",
      "|[1.0,1.5,4.0,2.0,...|       7.0|[0.0,0.0,0.0,0.0,...|[0.0,0.0,0.0,0.0,...|       7.0|\n",
      "|[1.0,1.5,4.0,2.0,...|       8.0|[0.0,0.0,0.0,0.0,...|[0.0,0.0,0.0,0.0,...|       8.0|\n",
      "|[1.0,1.5,4.0,2.0,...|       8.0|[0.0,0.0,0.0,0.0,...|[0.0,0.0,0.0,0.0,...|       8.0|\n",
      "|[1.0,1.6,4.0,2.0,...|       6.0|[0.0,0.0,0.0,0.0,...|[0.0,0.0,0.0,0.0,...|       6.0|\n",
      "|[1.0,1.6,4.0,2.0,...|       7.0|[0.0,0.0,0.0,0.0,...|[0.0,0.0,0.0,0.0,...|       6.0|\n",
      "|[1.0,1.6,4.0,2.0,...|       7.0|[0.0,0.0,0.0,0.0,...|[0.0,0.0,0.0,0.0,...|       7.0|\n",
      "|[1.0,1.6,4.0,2.0,...|       7.0|[0.0,0.0,0.0,0.0,...|[0.0,0.0,0.0,0.0,...|       7.0|\n",
      "|[1.0,1.6,4.0,2.0,...|       7.0|[0.0,0.0,0.0,0.0,...|[0.0,0.0,0.0,0.0,...|       7.0|\n",
      "|[1.0,1.6,4.0,2.0,...|       7.0|[0.0,0.0,0.0,0.0,...|[0.0,0.0,0.0,0.0,...|       7.0|\n",
      "+--------------------+----------+--------------------+--------------------+----------+\n",
      "only showing top 20 rows\n",
      "\n"
     ]
    }
   ],
   "source": [
    "prediction_rf.show()"
   ]
  },
  {
   "cell_type": "code",
   "execution_count": 153,
   "id": "edaba20e",
   "metadata": {},
   "outputs": [
    {
     "name": "stdout",
     "output_type": "stream",
     "text": [
      "objectiveHistory:\n",
      "0.0\n"
     ]
    }
   ],
   "source": [
    "trainingSummary = model_rf.summary\n",
    "objectiveHistory = trainingSummary.objectiveHistory\n",
    "print(\"objectiveHistory:\")\n",
    "for objective in objectiveHistory:\n",
    " print(objective)\n"
   ]
  },
  {
   "cell_type": "code",
   "execution_count": 154,
   "id": "0d8e9cf6",
   "metadata": {},
   "outputs": [
    {
     "name": "stdout",
     "output_type": "stream",
     "text": [
      "False positive rate by label:\n",
      "label 0: 0.0036231884057971015\n",
      "label 1: 0.008820564516129033\n",
      "label 2: 0.026540843409023886\n",
      "label 3: 0.02955818294959552\n",
      "label 4: 0.01602878639188747\n",
      "label 5: 0.012706136793728035\n",
      "label 6: 0.011920186576833377\n",
      "label 7: 0.0031484620973601355\n",
      "label 8: 0.00023860653781913624\n"
     ]
    }
   ],
   "source": [
    "print(\"False positive rate by label:\")\n",
    "for i,rate in enumerate(trainingSummary.falsePositiveRateByLabel):\n",
    " print(\"label %d: %s\" % (i, rate))"
   ]
  },
  {
   "cell_type": "code",
   "execution_count": 155,
   "id": "260ec623",
   "metadata": {},
   "outputs": [
    {
     "name": "stdout",
     "output_type": "stream",
     "text": [
      "True positive rate by label:\n",
      "label 0: 0.9848484848484849\n",
      "label 1: 0.9243697478991597\n",
      "label 2: 0.9386503067484663\n",
      "label 3: 0.8911290322580645\n",
      "label 4: 0.9216710182767625\n",
      "label 5: 0.9013806706114399\n",
      "label 6: 0.8674351585014409\n",
      "label 7: 0.6883116883116883\n",
      "label 8: 0.7333333333333333\n"
     ]
    }
   ],
   "source": [
    "print(\"True positive rate by label:\")\n",
    "for i,rate in enumerate(trainingSummary.truePositiveRateByLabel):\n",
    " print(\"label %d: %s\" % (i, rate))"
   ]
  },
  {
   "cell_type": "code",
   "execution_count": 156,
   "id": "6c574af8",
   "metadata": {},
   "outputs": [
    {
     "name": "stdout",
     "output_type": "stream",
     "text": [
      "Precision by label:\n",
      "label 0: 0.8125\n",
      "label 1: 0.8627450980392157\n",
      "label 2: 0.8947368421052632\n",
      "label 3: 0.9029622063329928\n",
      "label 4: 0.9557761732851986\n",
      "label 5: 0.9067460317460317\n",
      "label 6: 0.8674351585014409\n",
      "label 7: 0.803030303030303\n",
      "label 8: 0.9166666666666666\n"
     ]
    }
   ],
   "source": [
    "print(\"Precision by label:\")\n",
    "for i,rate in enumerate(trainingSummary.precisionByLabel):\n",
    " print(\"label %d: %s\" % (i, rate))"
   ]
  },
  {
   "cell_type": "code",
   "execution_count": 158,
   "id": "0e2c34bf",
   "metadata": {},
   "outputs": [
    {
     "name": "stdout",
     "output_type": "stream",
     "text": [
      "Recall by label:\n",
      "label 0: 0.9848484848484849\n",
      "label 1: 0.9243697478991597\n",
      "label 2: 0.9386503067484663\n",
      "label 3: 0.8911290322580645\n",
      "label 4: 0.9216710182767625\n",
      "label 5: 0.9013806706114399\n",
      "label 6: 0.8674351585014409\n",
      "label 7: 0.6883116883116883\n",
      "label 8: 0.7333333333333333\n"
     ]
    }
   ],
   "source": [
    "print(\"Recall by label:\")\n",
    "for i,rate in enumerate(trainingSummary.recallByLabel):\n",
    " print(\"label %d: %s\" % (i, rate))"
   ]
  },
  {
   "cell_type": "code",
   "execution_count": 157,
   "id": "48ea6dee",
   "metadata": {},
   "outputs": [
    {
     "name": "stdout",
     "output_type": "stream",
     "text": [
      "F-measure by label:\n",
      "label 0: 0.8904109589041096\n",
      "label 1: 0.8924949290060852\n",
      "label 2: 0.9161676646706587\n",
      "label 3: 0.8970065956367326\n",
      "label 4: 0.9384138236597253\n",
      "label 5: 0.904055390702275\n",
      "label 6: 0.867435158501441\n",
      "label 7: 0.7412587412587411\n",
      "label 8: 0.8148148148148148\n"
     ]
    }
   ],
   "source": [
    "print(\"F-measure by label:\")\n",
    "for i,rate in enumerate(trainingSummary.fMeasureByLabel()):\n",
    " print(\"label %d: %s\" % (i, rate))"
   ]
  },
  {
   "cell_type": "code",
   "execution_count": 165,
   "id": "01db563f",
   "metadata": {},
   "outputs": [
    {
     "data": {
      "text/plain": [
       "[<matplotlib.lines.Line2D at 0x7fa44fc1df90>]"
      ]
     },
     "execution_count": 165,
     "metadata": {},
     "output_type": "execute_result"
    },
    {
     "data": {
      "image/png": "[encoded data removed]",
      "text/plain": [
       "<Figure size 432x288 with 1 Axes>"
      ]
     },
     "metadata": {
      "needs_background": "light"
     },
     "output_type": "display_data"
    }
   ],
   "source": [
    "plt.plot(trainingSummary.fMeasureByLabel())"
   ]
  },
  {
   "cell_type": "code",
   "execution_count": 170,
   "id": "3cb103b6",
   "metadata": {},
   "outputs": [
    {
     "data": {
      "text/plain": [
       "[<matplotlib.lines.Line2D at 0x7fa44c88bc70>]"
      ]
     },
     "execution_count": 170,
     "metadata": {},
     "output_type": "execute_result"
    },
    {
     "data": {
      "image/png": "[encoded data removed]",
      "text/plain": [
       "<Figure size 432x288 with 1 Axes>"
      ]
     },
     "metadata": {
      "needs_background": "light"
     },
     "output_type": "display_data"
    }
   ],
   "source": [
    "plt.plot(trainingSummary.recallByLabel)\n",
    "plt.plot(trainingSummary.precisionByLabel,'red')"
   ]
  },
  {
   "cell_type": "code",
   "execution_count": 182,
   "id": "47abe5e2",
   "metadata": {},
   "outputs": [
    {
     "name": "stderr",
     "output_type": "stream",
     "text": [
      "22/10/12 06:17:17 WARN DAGScheduler: Broadcasting large task binary with size 1315.7 KiB\n",
      "22/10/12 06:17:17 WARN DAGScheduler: Broadcasting large task binary with size 1752.6 KiB\n",
      "22/10/12 06:17:18 WARN DAGScheduler: Broadcasting large task binary with size 2.1 MiB\n",
      "22/10/12 06:17:18 WARN DAGScheduler: Broadcasting large task binary with size 2.5 MiB\n",
      "22/10/12 06:17:18 WARN DAGScheduler: Broadcasting large task binary with size 2.7 MiB\n",
      "22/10/12 06:17:19 WARN DAGScheduler: Broadcasting large task binary with size 2.9 MiB\n",
      "22/10/12 06:17:19 WARN DAGScheduler: Broadcasting large task binary with size 3.0 MiB\n",
      "22/10/12 06:17:20 WARN DAGScheduler: Broadcasting large task binary with size 3.1 MiB\n",
      "22/10/12 06:17:20 WARN DAGScheduler: Broadcasting large task binary with size 3.1 MiB\n",
      "22/10/12 06:17:20 WARN DAGScheduler: Broadcasting large task binary with size 2.9 MiB\n",
      "22/10/12 06:17:21 WARN DAGScheduler: Broadcasting large task binary with size 1035.5 KiB\n",
      "22/10/12 06:17:21 WARN DAGScheduler: Broadcasting large task binary with size 1335.9 KiB\n"
     ]
    },
    {
     "name": "stdout",
     "output_type": "stream",
     "text": [
      "Test Error = 0.103723\n"
     ]
    }
   ],
   "source": [
    "rf3 = RandomForestClassifier(labelCol='CO2 RATING',featuresCol='selectedFeatures',numTrees=20,maxDepth=20,featureSubsetStrategy=\"auto\")\n",
    "model_rf = rf3.fit(train)\n",
    "prediction_rf = model_rf.transform(test)\n",
    "evaluator3 = MulticlassClassificationEvaluator(labelCol='CO2 RATING', predictionCol=\"prediction\", metricName=\"accuracy\")\n",
    "accuracy3 = evaluator3.evaluate(prediction_rf)\n",
    "print(\"Test Error = %g\" % (1.0 - accuracy3))"
   ]
  },
  {
   "cell_type": "code",
   "execution_count": 181,
   "id": "22803070",
   "metadata": {},
   "outputs": [
    {
     "name": "stdout",
     "output_type": "stream",
     "text": [
      "Test Error = 0.10195\n"
     ]
    }
   ],
   "source": [
    "rf4 = RandomForestClassifier(labelCol='CO2 RATING',featuresCol='selectedFeatures',numTrees=10,maxDepth=10,featureSubsetStrategy=\"auto\")\n",
    "model_rf = rf4.fit(train)\n",
    "prediction_rf = model_rf.transform(test)\n",
    "evaluator4 = MulticlassClassificationEvaluator(labelCol='CO2 RATING', predictionCol=\"prediction\", metricName=\"accuracy\")\n",
    "accuracy4 = evaluator4.evaluate(prediction_rf)\n",
    "print(\"Test Error = %g\" % (1.0 - accuracy4))"
   ]
  },
  {
   "cell_type": "code",
   "execution_count": 179,
   "id": "d67c5038",
   "metadata": {},
   "outputs": [
    {
     "name": "stdout",
     "output_type": "stream",
     "text": [
      "+--------------------+----------+--------------------+\n",
      "|            features|CO2 RATING|    selectedFeatures|\n",
      "+--------------------+----------+--------------------+\n",
      "|[1.0,2.4,4.0,1.0,...|       7.0|[1.0,2.4,4.0,1.0,...|\n",
      "|[2.0,3.5,6.0,1.0,...|       4.0|[2.0,3.5,6.0,1.0,...|\n",
      "|[2.0,3.5,6.0,1.0,...|       5.0|[2.0,3.5,6.0,1.0,...|\n",
      "|[2.0,3.0,6.0,1.0,...|       6.0|[2.0,3.0,6.0,1.0,...|\n",
      "|[3.0,3.5,6.0,1.0,...|       4.0|[3.0,3.5,6.0,1.0,...|\n",
      "|[2.0,3.5,6.0,1.0,...|       5.0|[2.0,3.5,6.0,1.0,...|\n",
      "|[4.0,3.5,6.0,1.0,...|       7.0|[4.0,3.5,6.0,1.0,...|\n",
      "|[1.0,2.4,4.0,1.0,...|       6.0|[1.0,2.4,4.0,1.0,...|\n",
      "|[1.0,3.5,6.0,1.0,...|       5.0|[1.0,3.5,6.0,1.0,...|\n",
      "|[3.0,1.8,4.0,1.0,...|       6.0|[3.0,1.8,4.0,1.0,...|\n",
      "|[3.0,1.8,4.0,1.0,...|       6.0|[3.0,1.8,4.0,1.0,...|\n",
      "|[4.0,2.0,4.0,1.0,...|       6.0|[4.0,2.0,4.0,1.0,...|\n",
      "|[4.0,2.0,4.0,1.0,...|       6.0|[4.0,2.0,4.0,1.0,...|\n",
      "|[4.0,2.9,6.0,1.0,...|       4.0|[4.0,2.9,6.0,1.0,...|\n",
      "|[5.0,5.2,12.0,1.0...|       3.0|[5.0,5.2,12.0,1.0...|\n",
      "|[6.0,6.0,12.0,1.0...|       3.0|[6.0,6.0,12.0,1.0...|\n",
      "|[5.0,6.0,12.0,1.0...|       2.0|[5.0,6.0,12.0,1.0...|\n",
      "|[3.0,6.0,12.0,1.0...|       1.0|[3.0,6.0,12.0,1.0...|\n",
      "|[6.0,2.0,4.0,2.0,...|       7.0|[6.0,2.0,4.0,2.0,...|\n",
      "|[6.0,2.0,4.0,2.0,...|       6.0|[6.0,2.0,4.0,2.0,...|\n",
      "+--------------------+----------+--------------------+\n",
      "only showing top 20 rows\n",
      "\n"
     ]
    }
   ],
   "source": [
    "data = output.select(\"features\",'CO2 RATING')\n",
    "selector = ChiSqSelector(numTopFeatures=6,labelCol='CO2 RATING', outputCol=\"selectedFeatures\")\n",
    "model = selector.fit(data)\n",
    "model.transform(data).show()\n",
    "data = model.transform(data)\n",
    "data = data.select(\"selectedFeatures\",'CO2 RATING')\n",
    "splits = data.randomSplit([0.8, 0.2], 1234)\n",
    "train = splits[0]\n",
    "test = splits[1]"
   ]
  },
  {
   "cell_type": "code",
   "execution_count": 180,
   "id": "ea4644ff",
   "metadata": {},
   "outputs": [
    {
     "name": "stderr",
     "output_type": "stream",
     "text": [
      "22/10/12 06:15:59 WARN DAGScheduler: Broadcasting large task binary with size 1315.7 KiB\n",
      "22/10/12 06:15:59 WARN DAGScheduler: Broadcasting large task binary with size 1752.6 KiB\n"
     ]
    },
    {
     "name": "stdout",
     "output_type": "stream",
     "text": [
      "Test Error = 0.102837\n"
     ]
    }
   ],
   "source": [
    "rf5 = RandomForestClassifier(labelCol='CO2 RATING',featuresCol='selectedFeatures',numTrees=20,maxDepth=10,featureSubsetStrategy=\"auto\")\n",
    "model_rf = rf5.fit(train)\n",
    "prediction_rf = model_rf.transform(test)\n",
    "evaluator5 = MulticlassClassificationEvaluator(labelCol='CO2 RATING', predictionCol=\"prediction\", metricName=\"accuracy\")\n",
    "accuracy5 = evaluator4.evaluate(prediction_rf)\n",
    "print(\"Test Error = %g\" % (1.0 - accuracy5))"
   ]
  },
  {
   "cell_type": "code",
   "execution_count": null,
   "id": "8d124763",
   "metadata": {},
   "outputs": [],
   "source": []
  }
 ],
 "metadata": {
  "kernelspec": {
   "display_name": "Python 3 (ipykernel)",
   "language": "python",
   "name": "python3"
  },
  "language_info": {
   "codemirror_mode": {
    "name": "ipython",
    "version": 3
   },
   "file_extension": ".py",
   "mimetype": "text/x-python",
   "name": "python",
   "nbconvert_exporter": "python",
   "pygments_lexer": "ipython3",
   "version": "3.10.4"
  }
 },
 "nbformat": 4,
 "nbformat_minor": 5
}
